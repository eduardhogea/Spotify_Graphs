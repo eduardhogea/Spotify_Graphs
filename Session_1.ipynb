{
  "cells": [
    {
      "cell_type": "markdown",
      "metadata": {
        "id": "2CNIp1QlN_EG"
      },
      "source": [
        "###Make spotipy work"
      ]
    },
    {
      "cell_type": "code",
      "execution_count": null,
      "metadata": {},
      "outputs": [],
      "source": [
        "!pip install spotipy\n",
        "!pip install tqdm"
      ]
    },
    {
      "cell_type": "code",
      "execution_count": 1,
      "metadata": {
        "id": "hiUEHuSTFVb4"
      },
      "outputs": [],
      "source": [
        "%%capture\n",
        "import networkx as nx\n",
        "import pandas as pd\n",
        "import spotipy\n",
        "from spotipy . oauth2 import SpotifyClientCredentials\n",
        "import matplotlib.pyplot as plt\n",
        "from tqdm import tqdm\n",
        "import time\n",
        "import random\n",
        "from spotipy.exceptions import SpotifyException\n",
        "import scipy"
      ]
    },
    {
      "cell_type": "code",
      "execution_count": 2,
      "metadata": {
        "id": "oX_qBnSQFo1C"
      },
      "outputs": [],
      "source": [
        "CLIENT_ID = \"a8ab203894844651964d98d08fd9a714\"\n",
        "CLIENT_SECRET = \"e0c3fef273a7409793a1760d7bf9e350\"\n",
        "\n",
        "auth_manager = SpotifyClientCredentials (client_id = CLIENT_ID, client_secret = CLIENT_SECRET)\n",
        "sp = spotipy . Spotify ( auth_manager = auth_manager )"
      ]
    },
    {
      "cell_type": "markdown",
      "metadata": {
        "id": "HCpU9OqOOC9b"
      },
      "source": [
        "###Implement functions"
      ]
    },
    {
      "cell_type": "markdown",
      "metadata": {
        "id": "Qz4-0Y8ZONrD"
      },
      "source": [
        "####Final result"
      ]
    },
    {
      "cell_type": "code",
      "execution_count": 3,
      "metadata": {
        "id": "-OA5fEGjFQ94"
      },
      "outputs": [],
      "source": [
        "def add_node(graph, name, id):  \n",
        "  raw = sp.artist(id) \n",
        "\n",
        "  genre = ''\n",
        "  for g in raw['genres']:\n",
        "    genre = genre+g+','\n",
        "\n",
        "  graph.add_node(name, \n",
        "                 id = raw['id'], \n",
        "                 followers = raw['followers']['total'],\n",
        "                 popularity = raw['popularity'],\n",
        "                 genres = genre)\n",
        "\n",
        "\n",
        "def explore_node(graph, name='', id=''):  \n",
        "  if id=='':    \n",
        "    id = search_artist(name)\n",
        "  elif name=='':    \n",
        "    name = sp.artist(id)['name']\n",
        "  \n",
        "  related = sp.artist_related_artists(id)  \n",
        "  neighbours = [artist['name'] for artist in related['artists']]\n",
        "  add_node(graph, name, id)\n",
        "\n",
        "  for partner in neighbours: \n",
        "    add_node(graph, partner, search_artist(partner))\n",
        "    graph.add_edge(name, partner)  \n",
        "  \n",
        "  return neighbours\n",
        "\n",
        "\n",
        "def search_artist(artist_name: str) -> str:\n",
        "    \"\"\"\n",
        "    Search for an artist in Spotify.\n",
        "\n",
        "    :param artist_name: name to search for.\n",
        "    :return: spotify artist id.\n",
        "    \"\"\"\n",
        "    # ------- IMPLEMENT HERE THE BODY OF THE FUNCTION ------- #\n",
        "    searched = sp.search(artist_name, type='artist', limit=1)\n",
        "    if searched['artists']['items'] != []:\n",
        "      return searched['artists']['items'][0]['id']  \n",
        "\n",
        "\n",
        "def crawler(seed: str, max_nodes_to_crawl: int, strategy: str = \"BFS\", out_filename: str = \"g.graphml\") -> nx.DiGraph:\n",
        "    \"\"\"\n",
        "    Crawl the Spotify artist graph, following related artists.\n",
        "\n",
        "    :param seed: starting artist id.\n",
        "    :param max_nodes_to_crawl: maximum number of nodes to crawl.\n",
        "    :param strategy: BFS or DFS.\n",
        "    :param out_filename: name of the graphml output file.\n",
        "    :return: networkx directed graph.\n",
        "    \"\"\"\n",
        "\n",
        "    Graph = nx.DiGraph()\n",
        "    n_nodes = 1    \n",
        "    to_explore = explore_node(Graph, id = seed)     \n",
        "    visited = []    \n",
        "\n",
        "    with tqdm(total=max_nodes_to_crawl, desc='Crawling artists', ncols=75) as pbar:\n",
        "        while (n_nodes < max_nodes_to_crawl) and (len(to_explore) != 0):\n",
        "            if strategy=='BFS':        \n",
        "                current = to_explore.pop(0)         \n",
        "                while current in visited:\n",
        "                    current = to_explore.pop(0)                     \n",
        "                to_explore = to_explore + explore_node(Graph, name = current)\n",
        "                n_nodes += 1      \n",
        "                visited.append(current) \n",
        "\n",
        "                # Update the progress bar\n",
        "                pbar.update(1)\n",
        "\n",
        "            elif strategy=='DFS':\n",
        "                current = to_explore.pop(0)\n",
        "                while current in visited:\n",
        "                    current = to_explore.pop(0)                   \n",
        "                to_explore = explore_node(Graph, name = current) + to_explore        \n",
        "                n_nodes += 1     \n",
        "                visited.append(current)\n",
        "\n",
        "                # Update the progress bar\n",
        "                pbar.update(1)\n",
        "\n",
        "    nx.write_graphml(Graph, out_filename+\".graphml\")\n",
        "    nx.draw_spring(Graph)\n",
        "    return Graph \n",
        "\n",
        "def get_track_data(graphs: list, out_filename: str) -> pd.DataFrame:\n",
        "    \"\"\"\n",
        "    Get track data for each visited artist in the graph.\n",
        "    :param graphs: a list of graphs with artists as nodes. \n",
        "    :param out_filename: name of the csv output file. \n",
        "    :return: pandas dataframe with track data.\n",
        "    \"\"\"\n",
        "\n",
        "    columns = ['artist_id', 'artist_name', 'track_id', 'track_name', 'track_popularity', 'duration_ms', 'explicit', 'danceability', 'energy', 'loudness', 'speechiness', 'acousticness', 'instrumentalness', 'liveness', 'valence', 'tempo', 'album_id', 'album_name', 'album_release_date']\n",
        "\n",
        "    # create empty DataFrame with the defined columns and save it\n",
        "    df = pd.DataFrame(columns=columns)\n",
        "    df.to_csv(out_filename, index=False)\n",
        "    \n",
        "    total_nodes = sum([graph.number_of_nodes() for graph in graphs])\n",
        "\n",
        "    # Create a progress bar\n",
        "    with tqdm(total=total_nodes, desc='Processing artists', ncols=75) as pbar:\n",
        "        for graph in graphs:\n",
        "            for node in graph.nodes():\n",
        "                # get artist id\n",
        "                artist_id = graph.nodes[node]['id']\n",
        "\n",
        "                # get top tracks of the artist\n",
        "                top_tracks = sp.artist_top_tracks(artist_id)\n",
        "\n",
        "                for track in top_tracks['tracks']:\n",
        "                    # get album data\n",
        "                    album = sp.album(track['album']['id'])\n",
        "\n",
        "                    # get audio features of the track\n",
        "                    audio_features = sp.audio_features(track['id'])[0]\n",
        "\n",
        "                    track_data = [artist_id, node, \n",
        "                                  track['id'], \n",
        "                                  track['name'],\n",
        "                                  track['popularity'], \n",
        "                                  track['duration_ms'], \n",
        "                                  track['explicit'],\n",
        "                                  audio_features['danceability'],\n",
        "                                  audio_features['energy'],\n",
        "                                  audio_features['loudness'],\n",
        "                                  audio_features['speechiness'],\n",
        "                                  audio_features['acousticness'],\n",
        "                                  audio_features['instrumentalness'],\n",
        "                                  audio_features['liveness'],\n",
        "                                  audio_features['valence'],\n",
        "                                  audio_features['tempo'],\n",
        "                                  album['id'],\n",
        "                                  album['name'],\n",
        "                                  album['release_date']]\n",
        "\n",
        "                    df = pd.DataFrame([track_data], columns=columns)\n",
        "\n",
        "                    # append the track data to csv\n",
        "                    df.to_csv(out_filename, mode='a', header=False, index=False)\n",
        "                    \n",
        "                    # Update the progress bar\n",
        "                    pbar.update(1)\n",
        "    \n",
        "    # load the saved DataFrame\n",
        "    df = pd.read_csv(out_filename)\n",
        "    \n",
        "    return df\n",
        "\n",
        "\n",
        "if __name__ == \"__main__\":\n",
        "    artist_name = \"Drake\"  # Replace with the name of the artist you want to search for\n",
        "    seed_artist_id_Drake = search_artist(artist_name)\n",
        "    artist_name = \"French Montana\"\n",
        "    seed_artist_id_FM = search_artist(artist_name)\n",
        "    "
      ]
    },
    {
      "cell_type": "markdown",
      "metadata": {
        "id": "xdqE_4bkOQkm"
      },
      "source": [
        "####Exercises"
      ]
    },
    {
      "cell_type": "markdown",
      "metadata": {
        "id": "UGXrKV4qlpLF"
      },
      "source": [
        "#####No need to run"
      ]
    },
    {
      "cell_type": "code",
      "execution_count": null,
      "metadata": {
        "colab": {
          "base_uri": "https://localhost:8080/",
          "height": 516
        },
        "id": "YYjxee7QrvLs",
        "outputId": "d9ded07a-8108-46d7-831a-b2c01965a182"
      },
      "outputs": [],
      "source": [
        "gB = crawler(seed_artist_id_Drake, 200, 'BFS', 'gB')"
      ]
    },
    {
      "cell_type": "code",
      "execution_count": null,
      "metadata": {
        "colab": {
          "base_uri": "https://localhost:8080/",
          "height": 516
        },
        "id": "-EH_6RV6r0hu",
        "outputId": "87e83400-9e02-4495-9a54-e9daa2c07687"
      },
      "outputs": [],
      "source": [
        "gD = crawler(seed_artist_id_Drake, 200, 'DFS', 'gD')"
      ]
    },
    {
      "cell_type": "markdown",
      "metadata": {
        "id": "rRj5gGRklsB8"
      },
      "source": [
        "#####Run this (and download the results)"
      ]
    },
    {
      "cell_type": "code",
      "execution_count": 4,
      "metadata": {
        "id": "Jh8iG_dFc_oC"
      },
      "outputs": [],
      "source": [
        "import networkx as nx\n",
        "\n",
        "gB = nx.read_graphml('gB.graphml')\n",
        "gD = nx.read_graphml('gD.graphml')"
      ]
    },
    {
      "cell_type": "code",
      "execution_count": null,
      "metadata": {
        "colab": {
          "base_uri": "https://localhost:8080/",
          "height": 588
        },
        "id": "SWE4f1smsnQn",
        "outputId": "21d2ae22-afd7-44ba-c5d5-78fdfea881f5"
      },
      "outputs": [],
      "source": [
        "D = get_track_data([gB, gD], 'data_session-1.csv')"
      ]
    },
    {
      "cell_type": "code",
      "execution_count": 6,
      "metadata": {
        "id": "14dI6bGVh7Px"
      },
      "outputs": [
        {
          "ename": "KeyboardInterrupt",
          "evalue": "",
          "output_type": "error",
          "traceback": [
            "\u001b[0;31m---------------------------------------------------------------------------\u001b[0m",
            "\u001b[0;31mKeyboardInterrupt\u001b[0m                         Traceback (most recent call last)",
            "Cell \u001b[0;32mIn[6], line 5\u001b[0m\n\u001b[1;32m      2\u001b[0m seed_artist_id_FM \u001b[39m=\u001b[39m search_artist(artist_name)  \u001b[39m# Get the Spotify id of the artist\u001b[39;00m\n\u001b[1;32m      4\u001b[0m \u001b[39m# Crawl the Spotify artist graph using BFS, starting with French Montana\u001b[39;00m\n\u001b[0;32m----> 5\u001b[0m hB \u001b[39m=\u001b[39m crawler(seed_artist_id_FM, \u001b[39m200\u001b[39;49m, \u001b[39m'\u001b[39;49m\u001b[39mBFS\u001b[39;49m\u001b[39m'\u001b[39;49m, \u001b[39m'\u001b[39;49m\u001b[39mhB_2\u001b[39;49m\u001b[39m'\u001b[39;49m)\n",
            "Cell \u001b[0;32mIn[3], line 58\u001b[0m, in \u001b[0;36mcrawler\u001b[0;34m(seed, max_nodes_to_crawl, strategy, out_filename)\u001b[0m\n\u001b[1;32m     56\u001b[0m Graph \u001b[39m=\u001b[39m nx\u001b[39m.\u001b[39mDiGraph()\n\u001b[1;32m     57\u001b[0m n_nodes \u001b[39m=\u001b[39m \u001b[39m1\u001b[39m    \n\u001b[0;32m---> 58\u001b[0m to_explore \u001b[39m=\u001b[39m explore_node(Graph, \u001b[39mid\u001b[39;49m \u001b[39m=\u001b[39;49m seed)     \n\u001b[1;32m     59\u001b[0m visited \u001b[39m=\u001b[39m []    \n\u001b[1;32m     61\u001b[0m \u001b[39mwith\u001b[39;00m tqdm(total\u001b[39m=\u001b[39mmax_nodes_to_crawl, desc\u001b[39m=\u001b[39m\u001b[39m'\u001b[39m\u001b[39mCrawling artists\u001b[39m\u001b[39m'\u001b[39m, ncols\u001b[39m=\u001b[39m\u001b[39m75\u001b[39m) \u001b[39mas\u001b[39;00m pbar:\n",
            "Cell \u001b[0;32mIn[3], line 19\u001b[0m, in \u001b[0;36mexplore_node\u001b[0;34m(graph, name, id)\u001b[0m\n\u001b[1;32m     17\u001b[0m   \u001b[39mid\u001b[39m \u001b[39m=\u001b[39m search_artist(name)\n\u001b[1;32m     18\u001b[0m \u001b[39melif\u001b[39;00m name\u001b[39m==\u001b[39m\u001b[39m'\u001b[39m\u001b[39m'\u001b[39m:    \n\u001b[0;32m---> 19\u001b[0m   name \u001b[39m=\u001b[39m sp\u001b[39m.\u001b[39;49martist(\u001b[39mid\u001b[39;49m)[\u001b[39m'\u001b[39m\u001b[39mname\u001b[39m\u001b[39m'\u001b[39m]\n\u001b[1;32m     21\u001b[0m related \u001b[39m=\u001b[39m sp\u001b[39m.\u001b[39martist_related_artists(\u001b[39mid\u001b[39m)  \n\u001b[1;32m     22\u001b[0m neighbours \u001b[39m=\u001b[39m [artist[\u001b[39m'\u001b[39m\u001b[39mname\u001b[39m\u001b[39m'\u001b[39m] \u001b[39mfor\u001b[39;00m artist \u001b[39min\u001b[39;00m related[\u001b[39m'\u001b[39m\u001b[39martists\u001b[39m\u001b[39m'\u001b[39m]]\n",
            "File \u001b[0;32m~/miniforge3/envs/spotify/lib/python3.11/site-packages/spotipy/client.py:392\u001b[0m, in \u001b[0;36mSpotify.artist\u001b[0;34m(self, artist_id)\u001b[0m\n\u001b[1;32m    385\u001b[0m \u001b[39m\u001b[39m\u001b[39m\"\"\" returns a single artist given the artist's ID, URI or URL\u001b[39;00m\n\u001b[1;32m    386\u001b[0m \n\u001b[1;32m    387\u001b[0m \u001b[39m    Parameters:\u001b[39;00m\n\u001b[1;32m    388\u001b[0m \u001b[39m        - artist_id - an artist ID, URI or URL\u001b[39;00m\n\u001b[1;32m    389\u001b[0m \u001b[39m\"\"\"\u001b[39;00m\n\u001b[1;32m    391\u001b[0m trid \u001b[39m=\u001b[39m \u001b[39mself\u001b[39m\u001b[39m.\u001b[39m_get_id(\u001b[39m\"\u001b[39m\u001b[39martist\u001b[39m\u001b[39m\"\u001b[39m, artist_id)\n\u001b[0;32m--> 392\u001b[0m \u001b[39mreturn\u001b[39;00m \u001b[39mself\u001b[39;49m\u001b[39m.\u001b[39;49m_get(\u001b[39m\"\u001b[39;49m\u001b[39martists/\u001b[39;49m\u001b[39m\"\u001b[39;49m \u001b[39m+\u001b[39;49m trid)\n",
            "File \u001b[0;32m~/miniforge3/envs/spotify/lib/python3.11/site-packages/spotipy/client.py:323\u001b[0m, in \u001b[0;36mSpotify._get\u001b[0;34m(self, url, args, payload, **kwargs)\u001b[0m\n\u001b[1;32m    320\u001b[0m \u001b[39mif\u001b[39;00m args:\n\u001b[1;32m    321\u001b[0m     kwargs\u001b[39m.\u001b[39mupdate(args)\n\u001b[0;32m--> 323\u001b[0m \u001b[39mreturn\u001b[39;00m \u001b[39mself\u001b[39;49m\u001b[39m.\u001b[39;49m_internal_call(\u001b[39m\"\u001b[39;49m\u001b[39mGET\u001b[39;49m\u001b[39m\"\u001b[39;49m, url, payload, kwargs)\n",
            "File \u001b[0;32m~/miniforge3/envs/spotify/lib/python3.11/site-packages/spotipy/client.py:266\u001b[0m, in \u001b[0;36mSpotify._internal_call\u001b[0;34m(self, method, url, payload, params)\u001b[0m\n\u001b[1;32m    262\u001b[0m logger\u001b[39m.\u001b[39mdebug(\u001b[39m'\u001b[39m\u001b[39mSending \u001b[39m\u001b[39m%s\u001b[39;00m\u001b[39m to \u001b[39m\u001b[39m%s\u001b[39;00m\u001b[39m with Params: \u001b[39m\u001b[39m%s\u001b[39;00m\u001b[39m Headers: \u001b[39m\u001b[39m%s\u001b[39;00m\u001b[39m and Body: \u001b[39m\u001b[39m%r\u001b[39;00m\u001b[39m \u001b[39m\u001b[39m'\u001b[39m,\n\u001b[1;32m    263\u001b[0m              method, url, args\u001b[39m.\u001b[39mget(\u001b[39m\"\u001b[39m\u001b[39mparams\u001b[39m\u001b[39m\"\u001b[39m), headers, args\u001b[39m.\u001b[39mget(\u001b[39m'\u001b[39m\u001b[39mdata\u001b[39m\u001b[39m'\u001b[39m))\n\u001b[1;32m    265\u001b[0m \u001b[39mtry\u001b[39;00m:\n\u001b[0;32m--> 266\u001b[0m     response \u001b[39m=\u001b[39m \u001b[39mself\u001b[39;49m\u001b[39m.\u001b[39;49m_session\u001b[39m.\u001b[39;49mrequest(\n\u001b[1;32m    267\u001b[0m         method, url, headers\u001b[39m=\u001b[39;49mheaders, proxies\u001b[39m=\u001b[39;49m\u001b[39mself\u001b[39;49m\u001b[39m.\u001b[39;49mproxies,\n\u001b[1;32m    268\u001b[0m         timeout\u001b[39m=\u001b[39;49m\u001b[39mself\u001b[39;49m\u001b[39m.\u001b[39;49mrequests_timeout, \u001b[39m*\u001b[39;49m\u001b[39m*\u001b[39;49margs\n\u001b[1;32m    269\u001b[0m     )\n\u001b[1;32m    271\u001b[0m     response\u001b[39m.\u001b[39mraise_for_status()\n\u001b[1;32m    272\u001b[0m     results \u001b[39m=\u001b[39m response\u001b[39m.\u001b[39mjson()\n",
            "File \u001b[0;32m~/miniforge3/envs/spotify/lib/python3.11/site-packages/requests/sessions.py:589\u001b[0m, in \u001b[0;36mSession.request\u001b[0;34m(self, method, url, params, data, headers, cookies, files, auth, timeout, allow_redirects, proxies, hooks, stream, verify, cert, json)\u001b[0m\n\u001b[1;32m    584\u001b[0m send_kwargs \u001b[39m=\u001b[39m {\n\u001b[1;32m    585\u001b[0m     \u001b[39m\"\u001b[39m\u001b[39mtimeout\u001b[39m\u001b[39m\"\u001b[39m: timeout,\n\u001b[1;32m    586\u001b[0m     \u001b[39m\"\u001b[39m\u001b[39mallow_redirects\u001b[39m\u001b[39m\"\u001b[39m: allow_redirects,\n\u001b[1;32m    587\u001b[0m }\n\u001b[1;32m    588\u001b[0m send_kwargs\u001b[39m.\u001b[39mupdate(settings)\n\u001b[0;32m--> 589\u001b[0m resp \u001b[39m=\u001b[39m \u001b[39mself\u001b[39;49m\u001b[39m.\u001b[39;49msend(prep, \u001b[39m*\u001b[39;49m\u001b[39m*\u001b[39;49msend_kwargs)\n\u001b[1;32m    591\u001b[0m \u001b[39mreturn\u001b[39;00m resp\n",
            "File \u001b[0;32m~/miniforge3/envs/spotify/lib/python3.11/site-packages/requests/sessions.py:703\u001b[0m, in \u001b[0;36mSession.send\u001b[0;34m(self, request, **kwargs)\u001b[0m\n\u001b[1;32m    700\u001b[0m start \u001b[39m=\u001b[39m preferred_clock()\n\u001b[1;32m    702\u001b[0m \u001b[39m# Send the request\u001b[39;00m\n\u001b[0;32m--> 703\u001b[0m r \u001b[39m=\u001b[39m adapter\u001b[39m.\u001b[39;49msend(request, \u001b[39m*\u001b[39;49m\u001b[39m*\u001b[39;49mkwargs)\n\u001b[1;32m    705\u001b[0m \u001b[39m# Total elapsed time of the request (approximately)\u001b[39;00m\n\u001b[1;32m    706\u001b[0m elapsed \u001b[39m=\u001b[39m preferred_clock() \u001b[39m-\u001b[39m start\n",
            "File \u001b[0;32m~/miniforge3/envs/spotify/lib/python3.11/site-packages/requests/adapters.py:486\u001b[0m, in \u001b[0;36mHTTPAdapter.send\u001b[0;34m(self, request, stream, timeout, verify, cert, proxies)\u001b[0m\n\u001b[1;32m    483\u001b[0m     timeout \u001b[39m=\u001b[39m TimeoutSauce(connect\u001b[39m=\u001b[39mtimeout, read\u001b[39m=\u001b[39mtimeout)\n\u001b[1;32m    485\u001b[0m \u001b[39mtry\u001b[39;00m:\n\u001b[0;32m--> 486\u001b[0m     resp \u001b[39m=\u001b[39m conn\u001b[39m.\u001b[39;49murlopen(\n\u001b[1;32m    487\u001b[0m         method\u001b[39m=\u001b[39;49mrequest\u001b[39m.\u001b[39;49mmethod,\n\u001b[1;32m    488\u001b[0m         url\u001b[39m=\u001b[39;49murl,\n\u001b[1;32m    489\u001b[0m         body\u001b[39m=\u001b[39;49mrequest\u001b[39m.\u001b[39;49mbody,\n\u001b[1;32m    490\u001b[0m         headers\u001b[39m=\u001b[39;49mrequest\u001b[39m.\u001b[39;49mheaders,\n\u001b[1;32m    491\u001b[0m         redirect\u001b[39m=\u001b[39;49m\u001b[39mFalse\u001b[39;49;00m,\n\u001b[1;32m    492\u001b[0m         assert_same_host\u001b[39m=\u001b[39;49m\u001b[39mFalse\u001b[39;49;00m,\n\u001b[1;32m    493\u001b[0m         preload_content\u001b[39m=\u001b[39;49m\u001b[39mFalse\u001b[39;49;00m,\n\u001b[1;32m    494\u001b[0m         decode_content\u001b[39m=\u001b[39;49m\u001b[39mFalse\u001b[39;49;00m,\n\u001b[1;32m    495\u001b[0m         retries\u001b[39m=\u001b[39;49m\u001b[39mself\u001b[39;49m\u001b[39m.\u001b[39;49mmax_retries,\n\u001b[1;32m    496\u001b[0m         timeout\u001b[39m=\u001b[39;49mtimeout,\n\u001b[1;32m    497\u001b[0m         chunked\u001b[39m=\u001b[39;49mchunked,\n\u001b[1;32m    498\u001b[0m     )\n\u001b[1;32m    500\u001b[0m \u001b[39mexcept\u001b[39;00m (ProtocolError, \u001b[39mOSError\u001b[39;00m) \u001b[39mas\u001b[39;00m err:\n\u001b[1;32m    501\u001b[0m     \u001b[39mraise\u001b[39;00m \u001b[39mConnectionError\u001b[39;00m(err, request\u001b[39m=\u001b[39mrequest)\n",
            "File \u001b[0;32m~/miniforge3/envs/spotify/lib/python3.11/site-packages/urllib3/connectionpool.py:939\u001b[0m, in \u001b[0;36mHTTPConnectionPool.urlopen\u001b[0;34m(self, method, url, body, headers, retries, redirect, assert_same_host, timeout, pool_timeout, release_conn, chunked, body_pos, preload_content, decode_content, **response_kw)\u001b[0m\n\u001b[1;32m    936\u001b[0m     \u001b[39mreturn\u001b[39;00m response\n\u001b[1;32m    938\u001b[0m response\u001b[39m.\u001b[39mdrain_conn()\n\u001b[0;32m--> 939\u001b[0m retries\u001b[39m.\u001b[39;49msleep(response)\n\u001b[1;32m    940\u001b[0m log\u001b[39m.\u001b[39mdebug(\u001b[39m\"\u001b[39m\u001b[39mRetry: \u001b[39m\u001b[39m%s\u001b[39;00m\u001b[39m\"\u001b[39m, url)\n\u001b[1;32m    941\u001b[0m \u001b[39mreturn\u001b[39;00m \u001b[39mself\u001b[39m\u001b[39m.\u001b[39murlopen(\n\u001b[1;32m    942\u001b[0m     method,\n\u001b[1;32m    943\u001b[0m     url,\n\u001b[0;32m   (...)\u001b[0m\n\u001b[1;32m    956\u001b[0m     \u001b[39m*\u001b[39m\u001b[39m*\u001b[39mresponse_kw,\n\u001b[1;32m    957\u001b[0m )\n",
            "File \u001b[0;32m~/miniforge3/envs/spotify/lib/python3.11/site-packages/urllib3/util/retry.py:355\u001b[0m, in \u001b[0;36mRetry.sleep\u001b[0;34m(self, response)\u001b[0m\n\u001b[1;32m    346\u001b[0m \u001b[39m\u001b[39m\u001b[39m\"\"\"Sleep between retry attempts.\u001b[39;00m\n\u001b[1;32m    347\u001b[0m \n\u001b[1;32m    348\u001b[0m \u001b[39mThis method will respect a server's ``Retry-After`` response header\u001b[39;00m\n\u001b[0;32m   (...)\u001b[0m\n\u001b[1;32m    351\u001b[0m \u001b[39mthis method will return immediately.\u001b[39;00m\n\u001b[1;32m    352\u001b[0m \u001b[39m\"\"\"\u001b[39;00m\n\u001b[1;32m    354\u001b[0m \u001b[39mif\u001b[39;00m \u001b[39mself\u001b[39m\u001b[39m.\u001b[39mrespect_retry_after_header \u001b[39mand\u001b[39;00m response:\n\u001b[0;32m--> 355\u001b[0m     slept \u001b[39m=\u001b[39m \u001b[39mself\u001b[39;49m\u001b[39m.\u001b[39;49msleep_for_retry(response)\n\u001b[1;32m    356\u001b[0m     \u001b[39mif\u001b[39;00m slept:\n\u001b[1;32m    357\u001b[0m         \u001b[39mreturn\u001b[39;00m\n",
            "File \u001b[0;32m~/miniforge3/envs/spotify/lib/python3.11/site-packages/urllib3/util/retry.py:334\u001b[0m, in \u001b[0;36mRetry.sleep_for_retry\u001b[0;34m(self, response)\u001b[0m\n\u001b[1;32m    332\u001b[0m retry_after \u001b[39m=\u001b[39m \u001b[39mself\u001b[39m\u001b[39m.\u001b[39mget_retry_after(response)\n\u001b[1;32m    333\u001b[0m \u001b[39mif\u001b[39;00m retry_after:\n\u001b[0;32m--> 334\u001b[0m     time\u001b[39m.\u001b[39;49msleep(retry_after)\n\u001b[1;32m    335\u001b[0m     \u001b[39mreturn\u001b[39;00m \u001b[39mTrue\u001b[39;00m\n\u001b[1;32m    337\u001b[0m \u001b[39mreturn\u001b[39;00m \u001b[39mFalse\u001b[39;00m\n",
            "\u001b[0;31mKeyboardInterrupt\u001b[0m: "
          ]
        }
      ],
      "source": [
        "artist_name = \"French Montana\"  # The artist to start with\n",
        "seed_artist_id_FM = search_artist(artist_name)  # Get the Spotify id of the artist\n",
        "\n",
        "# Crawl the Spotify artist graph using BFS, starting with French Montana\n",
        "hB = crawler(seed_artist_id_FM, 200, 'BFS', 'hB')"
      ]
    },
    {
      "cell_type": "code",
      "execution_count": 5,
      "metadata": {},
      "outputs": [
        {
          "name": "stdout",
          "output_type": "stream",
          "text": [
            "Lavinium\n",
            "5Z6GzR42Br7G8wOmu5lRuS\n",
            "Got here\n"
          ]
        },
        {
          "ename": "KeyboardInterrupt",
          "evalue": "",
          "output_type": "error",
          "traceback": [
            "\u001b[0;31m---------------------------------------------------------------------------\u001b[0m",
            "\u001b[0;31mKeyboardInterrupt\u001b[0m                         Traceback (most recent call last)",
            "Cell \u001b[0;32mIn[5], line 6\u001b[0m\n\u001b[1;32m      4\u001b[0m \u001b[39mprint\u001b[39m(seed_artist_id)\n\u001b[1;32m      5\u001b[0m \u001b[39mprint\u001b[39m(\u001b[39m\"\u001b[39m\u001b[39mGot here\u001b[39m\u001b[39m\"\u001b[39m)\n\u001b[0;32m----> 6\u001b[0m fB \u001b[39m=\u001b[39m crawler(seed_artist_id, \u001b[39m200\u001b[39;49m, \u001b[39m'\u001b[39;49m\u001b[39mBFS\u001b[39;49m\u001b[39m'\u001b[39;49m, \u001b[39m'\u001b[39;49m\u001b[39mfB\u001b[39;49m\u001b[39m'\u001b[39;49m)\n",
            "Cell \u001b[0;32mIn[3], line 58\u001b[0m, in \u001b[0;36mcrawler\u001b[0;34m(seed, max_nodes_to_crawl, strategy, out_filename)\u001b[0m\n\u001b[1;32m     56\u001b[0m Graph \u001b[39m=\u001b[39m nx\u001b[39m.\u001b[39mDiGraph()\n\u001b[1;32m     57\u001b[0m n_nodes \u001b[39m=\u001b[39m \u001b[39m1\u001b[39m    \n\u001b[0;32m---> 58\u001b[0m to_explore \u001b[39m=\u001b[39m explore_node(Graph, \u001b[39mid\u001b[39;49m \u001b[39m=\u001b[39;49m seed)     \n\u001b[1;32m     59\u001b[0m visited \u001b[39m=\u001b[39m []    \n\u001b[1;32m     61\u001b[0m \u001b[39mwith\u001b[39;00m tqdm(total\u001b[39m=\u001b[39mmax_nodes_to_crawl, desc\u001b[39m=\u001b[39m\u001b[39m'\u001b[39m\u001b[39mCrawling artists\u001b[39m\u001b[39m'\u001b[39m, ncols\u001b[39m=\u001b[39m\u001b[39m75\u001b[39m) \u001b[39mas\u001b[39;00m pbar:\n",
            "Cell \u001b[0;32mIn[3], line 19\u001b[0m, in \u001b[0;36mexplore_node\u001b[0;34m(graph, name, id)\u001b[0m\n\u001b[1;32m     17\u001b[0m   \u001b[39mid\u001b[39m \u001b[39m=\u001b[39m search_artist(name)\n\u001b[1;32m     18\u001b[0m \u001b[39melif\u001b[39;00m name\u001b[39m==\u001b[39m\u001b[39m'\u001b[39m\u001b[39m'\u001b[39m:    \n\u001b[0;32m---> 19\u001b[0m   name \u001b[39m=\u001b[39m sp\u001b[39m.\u001b[39;49martist(\u001b[39mid\u001b[39;49m)[\u001b[39m'\u001b[39m\u001b[39mname\u001b[39m\u001b[39m'\u001b[39m]\n\u001b[1;32m     21\u001b[0m related \u001b[39m=\u001b[39m sp\u001b[39m.\u001b[39martist_related_artists(\u001b[39mid\u001b[39m)  \n\u001b[1;32m     22\u001b[0m neighbours \u001b[39m=\u001b[39m [artist[\u001b[39m'\u001b[39m\u001b[39mname\u001b[39m\u001b[39m'\u001b[39m] \u001b[39mfor\u001b[39;00m artist \u001b[39min\u001b[39;00m related[\u001b[39m'\u001b[39m\u001b[39martists\u001b[39m\u001b[39m'\u001b[39m]]\n",
            "File \u001b[0;32m~/miniforge3/envs/spotify/lib/python3.11/site-packages/spotipy/client.py:392\u001b[0m, in \u001b[0;36mSpotify.artist\u001b[0;34m(self, artist_id)\u001b[0m\n\u001b[1;32m    385\u001b[0m \u001b[39m\u001b[39m\u001b[39m\"\"\" returns a single artist given the artist's ID, URI or URL\u001b[39;00m\n\u001b[1;32m    386\u001b[0m \n\u001b[1;32m    387\u001b[0m \u001b[39m    Parameters:\u001b[39;00m\n\u001b[1;32m    388\u001b[0m \u001b[39m        - artist_id - an artist ID, URI or URL\u001b[39;00m\n\u001b[1;32m    389\u001b[0m \u001b[39m\"\"\"\u001b[39;00m\n\u001b[1;32m    391\u001b[0m trid \u001b[39m=\u001b[39m \u001b[39mself\u001b[39m\u001b[39m.\u001b[39m_get_id(\u001b[39m\"\u001b[39m\u001b[39martist\u001b[39m\u001b[39m\"\u001b[39m, artist_id)\n\u001b[0;32m--> 392\u001b[0m \u001b[39mreturn\u001b[39;00m \u001b[39mself\u001b[39;49m\u001b[39m.\u001b[39;49m_get(\u001b[39m\"\u001b[39;49m\u001b[39martists/\u001b[39;49m\u001b[39m\"\u001b[39;49m \u001b[39m+\u001b[39;49m trid)\n",
            "File \u001b[0;32m~/miniforge3/envs/spotify/lib/python3.11/site-packages/spotipy/client.py:323\u001b[0m, in \u001b[0;36mSpotify._get\u001b[0;34m(self, url, args, payload, **kwargs)\u001b[0m\n\u001b[1;32m    320\u001b[0m \u001b[39mif\u001b[39;00m args:\n\u001b[1;32m    321\u001b[0m     kwargs\u001b[39m.\u001b[39mupdate(args)\n\u001b[0;32m--> 323\u001b[0m \u001b[39mreturn\u001b[39;00m \u001b[39mself\u001b[39;49m\u001b[39m.\u001b[39;49m_internal_call(\u001b[39m\"\u001b[39;49m\u001b[39mGET\u001b[39;49m\u001b[39m\"\u001b[39;49m, url, payload, kwargs)\n",
            "File \u001b[0;32m~/miniforge3/envs/spotify/lib/python3.11/site-packages/spotipy/client.py:266\u001b[0m, in \u001b[0;36mSpotify._internal_call\u001b[0;34m(self, method, url, payload, params)\u001b[0m\n\u001b[1;32m    262\u001b[0m logger\u001b[39m.\u001b[39mdebug(\u001b[39m'\u001b[39m\u001b[39mSending \u001b[39m\u001b[39m%s\u001b[39;00m\u001b[39m to \u001b[39m\u001b[39m%s\u001b[39;00m\u001b[39m with Params: \u001b[39m\u001b[39m%s\u001b[39;00m\u001b[39m Headers: \u001b[39m\u001b[39m%s\u001b[39;00m\u001b[39m and Body: \u001b[39m\u001b[39m%r\u001b[39;00m\u001b[39m \u001b[39m\u001b[39m'\u001b[39m,\n\u001b[1;32m    263\u001b[0m              method, url, args\u001b[39m.\u001b[39mget(\u001b[39m\"\u001b[39m\u001b[39mparams\u001b[39m\u001b[39m\"\u001b[39m), headers, args\u001b[39m.\u001b[39mget(\u001b[39m'\u001b[39m\u001b[39mdata\u001b[39m\u001b[39m'\u001b[39m))\n\u001b[1;32m    265\u001b[0m \u001b[39mtry\u001b[39;00m:\n\u001b[0;32m--> 266\u001b[0m     response \u001b[39m=\u001b[39m \u001b[39mself\u001b[39;49m\u001b[39m.\u001b[39;49m_session\u001b[39m.\u001b[39;49mrequest(\n\u001b[1;32m    267\u001b[0m         method, url, headers\u001b[39m=\u001b[39;49mheaders, proxies\u001b[39m=\u001b[39;49m\u001b[39mself\u001b[39;49m\u001b[39m.\u001b[39;49mproxies,\n\u001b[1;32m    268\u001b[0m         timeout\u001b[39m=\u001b[39;49m\u001b[39mself\u001b[39;49m\u001b[39m.\u001b[39;49mrequests_timeout, \u001b[39m*\u001b[39;49m\u001b[39m*\u001b[39;49margs\n\u001b[1;32m    269\u001b[0m     )\n\u001b[1;32m    271\u001b[0m     response\u001b[39m.\u001b[39mraise_for_status()\n\u001b[1;32m    272\u001b[0m     results \u001b[39m=\u001b[39m response\u001b[39m.\u001b[39mjson()\n",
            "File \u001b[0;32m~/miniforge3/envs/spotify/lib/python3.11/site-packages/requests/sessions.py:589\u001b[0m, in \u001b[0;36mSession.request\u001b[0;34m(self, method, url, params, data, headers, cookies, files, auth, timeout, allow_redirects, proxies, hooks, stream, verify, cert, json)\u001b[0m\n\u001b[1;32m    584\u001b[0m send_kwargs \u001b[39m=\u001b[39m {\n\u001b[1;32m    585\u001b[0m     \u001b[39m\"\u001b[39m\u001b[39mtimeout\u001b[39m\u001b[39m\"\u001b[39m: timeout,\n\u001b[1;32m    586\u001b[0m     \u001b[39m\"\u001b[39m\u001b[39mallow_redirects\u001b[39m\u001b[39m\"\u001b[39m: allow_redirects,\n\u001b[1;32m    587\u001b[0m }\n\u001b[1;32m    588\u001b[0m send_kwargs\u001b[39m.\u001b[39mupdate(settings)\n\u001b[0;32m--> 589\u001b[0m resp \u001b[39m=\u001b[39m \u001b[39mself\u001b[39;49m\u001b[39m.\u001b[39;49msend(prep, \u001b[39m*\u001b[39;49m\u001b[39m*\u001b[39;49msend_kwargs)\n\u001b[1;32m    591\u001b[0m \u001b[39mreturn\u001b[39;00m resp\n",
            "File \u001b[0;32m~/miniforge3/envs/spotify/lib/python3.11/site-packages/requests/sessions.py:703\u001b[0m, in \u001b[0;36mSession.send\u001b[0;34m(self, request, **kwargs)\u001b[0m\n\u001b[1;32m    700\u001b[0m start \u001b[39m=\u001b[39m preferred_clock()\n\u001b[1;32m    702\u001b[0m \u001b[39m# Send the request\u001b[39;00m\n\u001b[0;32m--> 703\u001b[0m r \u001b[39m=\u001b[39m adapter\u001b[39m.\u001b[39;49msend(request, \u001b[39m*\u001b[39;49m\u001b[39m*\u001b[39;49mkwargs)\n\u001b[1;32m    705\u001b[0m \u001b[39m# Total elapsed time of the request (approximately)\u001b[39;00m\n\u001b[1;32m    706\u001b[0m elapsed \u001b[39m=\u001b[39m preferred_clock() \u001b[39m-\u001b[39m start\n",
            "File \u001b[0;32m~/miniforge3/envs/spotify/lib/python3.11/site-packages/requests/adapters.py:486\u001b[0m, in \u001b[0;36mHTTPAdapter.send\u001b[0;34m(self, request, stream, timeout, verify, cert, proxies)\u001b[0m\n\u001b[1;32m    483\u001b[0m     timeout \u001b[39m=\u001b[39m TimeoutSauce(connect\u001b[39m=\u001b[39mtimeout, read\u001b[39m=\u001b[39mtimeout)\n\u001b[1;32m    485\u001b[0m \u001b[39mtry\u001b[39;00m:\n\u001b[0;32m--> 486\u001b[0m     resp \u001b[39m=\u001b[39m conn\u001b[39m.\u001b[39;49murlopen(\n\u001b[1;32m    487\u001b[0m         method\u001b[39m=\u001b[39;49mrequest\u001b[39m.\u001b[39;49mmethod,\n\u001b[1;32m    488\u001b[0m         url\u001b[39m=\u001b[39;49murl,\n\u001b[1;32m    489\u001b[0m         body\u001b[39m=\u001b[39;49mrequest\u001b[39m.\u001b[39;49mbody,\n\u001b[1;32m    490\u001b[0m         headers\u001b[39m=\u001b[39;49mrequest\u001b[39m.\u001b[39;49mheaders,\n\u001b[1;32m    491\u001b[0m         redirect\u001b[39m=\u001b[39;49m\u001b[39mFalse\u001b[39;49;00m,\n\u001b[1;32m    492\u001b[0m         assert_same_host\u001b[39m=\u001b[39;49m\u001b[39mFalse\u001b[39;49;00m,\n\u001b[1;32m    493\u001b[0m         preload_content\u001b[39m=\u001b[39;49m\u001b[39mFalse\u001b[39;49;00m,\n\u001b[1;32m    494\u001b[0m         decode_content\u001b[39m=\u001b[39;49m\u001b[39mFalse\u001b[39;49;00m,\n\u001b[1;32m    495\u001b[0m         retries\u001b[39m=\u001b[39;49m\u001b[39mself\u001b[39;49m\u001b[39m.\u001b[39;49mmax_retries,\n\u001b[1;32m    496\u001b[0m         timeout\u001b[39m=\u001b[39;49mtimeout,\n\u001b[1;32m    497\u001b[0m         chunked\u001b[39m=\u001b[39;49mchunked,\n\u001b[1;32m    498\u001b[0m     )\n\u001b[1;32m    500\u001b[0m \u001b[39mexcept\u001b[39;00m (ProtocolError, \u001b[39mOSError\u001b[39;00m) \u001b[39mas\u001b[39;00m err:\n\u001b[1;32m    501\u001b[0m     \u001b[39mraise\u001b[39;00m \u001b[39mConnectionError\u001b[39;00m(err, request\u001b[39m=\u001b[39mrequest)\n",
            "File \u001b[0;32m~/miniforge3/envs/spotify/lib/python3.11/site-packages/urllib3/connectionpool.py:939\u001b[0m, in \u001b[0;36mHTTPConnectionPool.urlopen\u001b[0;34m(self, method, url, body, headers, retries, redirect, assert_same_host, timeout, pool_timeout, release_conn, chunked, body_pos, preload_content, decode_content, **response_kw)\u001b[0m\n\u001b[1;32m    936\u001b[0m     \u001b[39mreturn\u001b[39;00m response\n\u001b[1;32m    938\u001b[0m response\u001b[39m.\u001b[39mdrain_conn()\n\u001b[0;32m--> 939\u001b[0m retries\u001b[39m.\u001b[39;49msleep(response)\n\u001b[1;32m    940\u001b[0m log\u001b[39m.\u001b[39mdebug(\u001b[39m\"\u001b[39m\u001b[39mRetry: \u001b[39m\u001b[39m%s\u001b[39;00m\u001b[39m\"\u001b[39m, url)\n\u001b[1;32m    941\u001b[0m \u001b[39mreturn\u001b[39;00m \u001b[39mself\u001b[39m\u001b[39m.\u001b[39murlopen(\n\u001b[1;32m    942\u001b[0m     method,\n\u001b[1;32m    943\u001b[0m     url,\n\u001b[0;32m   (...)\u001b[0m\n\u001b[1;32m    956\u001b[0m     \u001b[39m*\u001b[39m\u001b[39m*\u001b[39mresponse_kw,\n\u001b[1;32m    957\u001b[0m )\n",
            "File \u001b[0;32m~/miniforge3/envs/spotify/lib/python3.11/site-packages/urllib3/util/retry.py:355\u001b[0m, in \u001b[0;36mRetry.sleep\u001b[0;34m(self, response)\u001b[0m\n\u001b[1;32m    346\u001b[0m \u001b[39m\u001b[39m\u001b[39m\"\"\"Sleep between retry attempts.\u001b[39;00m\n\u001b[1;32m    347\u001b[0m \n\u001b[1;32m    348\u001b[0m \u001b[39mThis method will respect a server's ``Retry-After`` response header\u001b[39;00m\n\u001b[0;32m   (...)\u001b[0m\n\u001b[1;32m    351\u001b[0m \u001b[39mthis method will return immediately.\u001b[39;00m\n\u001b[1;32m    352\u001b[0m \u001b[39m\"\"\"\u001b[39;00m\n\u001b[1;32m    354\u001b[0m \u001b[39mif\u001b[39;00m \u001b[39mself\u001b[39m\u001b[39m.\u001b[39mrespect_retry_after_header \u001b[39mand\u001b[39;00m response:\n\u001b[0;32m--> 355\u001b[0m     slept \u001b[39m=\u001b[39m \u001b[39mself\u001b[39;49m\u001b[39m.\u001b[39;49msleep_for_retry(response)\n\u001b[1;32m    356\u001b[0m     \u001b[39mif\u001b[39;00m slept:\n\u001b[1;32m    357\u001b[0m         \u001b[39mreturn\u001b[39;00m\n",
            "File \u001b[0;32m~/miniforge3/envs/spotify/lib/python3.11/site-packages/urllib3/util/retry.py:334\u001b[0m, in \u001b[0;36mRetry.sleep_for_retry\u001b[0;34m(self, response)\u001b[0m\n\u001b[1;32m    332\u001b[0m retry_after \u001b[39m=\u001b[39m \u001b[39mself\u001b[39m\u001b[39m.\u001b[39mget_retry_after(response)\n\u001b[1;32m    333\u001b[0m \u001b[39mif\u001b[39;00m retry_after:\n\u001b[0;32m--> 334\u001b[0m     time\u001b[39m.\u001b[39;49msleep(retry_after)\n\u001b[1;32m    335\u001b[0m     \u001b[39mreturn\u001b[39;00m \u001b[39mTrue\u001b[39;00m\n\u001b[1;32m    337\u001b[0m \u001b[39mreturn\u001b[39;00m \u001b[39mFalse\u001b[39;00m\n",
            "\u001b[0;31mKeyboardInterrupt\u001b[0m: "
          ]
        }
      ],
      "source": [
        "last_crawled_artist_from_gD = list(gD.nodes())[-1]\n",
        "print(last_crawled_artist_from_gD)\n",
        "seed_artist_id = search_artist(last_crawled_artist_from_gD)\n",
        "print(seed_artist_id)\n",
        "print(\"Got here\")\n",
        "fB = crawler(seed_artist_id, 200, 'BFS', 'fB')"
      ]
    },
    {
      "cell_type": "markdown",
      "metadata": {
        "id": "SUZRVbQVOIgt"
      },
      "source": [
        "###Others"
      ]
    },
    {
      "cell_type": "code",
      "execution_count": null,
      "metadata": {
        "id": "XRIc47IgU0KS"
      },
      "outputs": [],
      "source": [
        "def get_track_data(graphs: list, out_filename: str) -> pd.DataFrame:\n",
        "    \"\"\"\n",
        "    Get track data for each visited artist in the graph.\n",
        "\n",
        "    :param graphs: a list of graphs with artists as nodes.\n",
        "    :param out_filename: name of the csv output file.\n",
        "    :return: pandas dataframe with track data.\n",
        "    \"\"\"\n",
        "    # ------- IMPLEMENT HERE THE BODY OF THE FUNCTION ------- #\n",
        "    artists = set()\n",
        "\n",
        "    for graph in graphs:\n",
        "      for artist in list(graph.nodes):\n",
        "        artists.add(artist)\n",
        "    \n",
        "    columns = ['Name', 'ID', 'Popularity', 'Duration','Artist Name', 'Artist ID', 'Danceability', 'Energy', 'Loudness', 'Speechiness', 'Acousticness', 'Instrumentalness', 'Liveness', 'Valence', 'Tempo', 'Album Name', 'Album ID', 'Album Release Date']\n",
        "    data = []\n",
        "\n",
        "    for element in list(artists):\n",
        "      singer = element\n",
        "      singer_id = search_artist(singer)\n",
        "\n",
        "      tracks = sp.artist_top_tracks(singer_id, 'ES')['tracks']\n",
        "\n",
        "      for track in tracks:  \n",
        "        audio_features = sp.audio_features(track['id'])[0]\n",
        "\n",
        "        info = [\n",
        "          track['name'],\n",
        "          track['id'],\n",
        "          track['popularity'],\n",
        "          track['duration_ms'],\n",
        "          singer,\n",
        "          singer_id,\n",
        "          audio_features['danceability'],\n",
        "          audio_features['energy'],\n",
        "          audio_features['loudness'],\n",
        "          audio_features['speechiness'],\n",
        "          audio_features['acousticness'],\n",
        "          audio_features['instrumentalness'],\n",
        "          audio_features['liveness'],\n",
        "          audio_features['valence'],\n",
        "          audio_features['tempo'],\n",
        "          track['album']['name'],\n",
        "          track['album']['id'],\n",
        "          track['album']['release_date']\n",
        "        ]\n",
        "\n",
        "        data.append(info)\n",
        "\n",
        "    table = pd.DataFrame(data, columns=columns).sort_values('Popularity', ascending=False)\n",
        "    table.to_csv(out_filename, index=False)\n",
        "\n",
        "    return table\n",
        "    # ----------------- END OF FUNCTION --------------------- #"
      ]
    }
  ],
  "metadata": {
    "colab": {
      "collapsed_sections": [
        "2CNIp1QlN_EG",
        "UGXrKV4qlpLF"
      ],
      "provenance": []
    },
    "kernelspec": {
      "display_name": "Python 3",
      "name": "python3"
    },
    "language_info": {
      "codemirror_mode": {
        "name": "ipython",
        "version": 3
      },
      "file_extension": ".py",
      "mimetype": "text/x-python",
      "name": "python",
      "nbconvert_exporter": "python",
      "pygments_lexer": "ipython3",
      "version": "3.11.3"
    }
  },
  "nbformat": 4,
  "nbformat_minor": 0
}

{
 "cells": [
  {
   "cell_type": "code",
   "execution_count": 1,
   "metadata": {},
   "outputs": [],
   "source": [
    "%%capture\n",
    "!pip install spotipy\n",
    "import networkx as nx\n",
    "import pandas as pd\n",
    "import spotipy\n",
    "from spotipy . oauth2 import SpotifyClientCredentials\n",
    "import matplotlib.pyplot as plt\n",
    "import operator\n",
    "from collections import Counter\n",
    "import community as community_louvain\n",
    "import itertools"
   ]
  },
  {
   "cell_type": "code",
   "execution_count": 2,
   "metadata": {},
   "outputs": [],
   "source": [
    "CLIENT_ID = \"fe233373eb024c3a97f1eeca78dba3c8\"\n",
    "CLIENT_SECRET = \"34f0386560eb4dcb88e317f81b11b961\"\n",
    "\n",
    "auth_manager = SpotifyClientCredentials (client_id = CLIENT_ID, client_secret = CLIENT_SECRET)\n",
    "sp = spotipy . Spotify ( auth_manager = auth_manager )"
   ]
  },
  {
   "cell_type": "code",
   "execution_count": null,
   "metadata": {},
   "outputs": [],
   "source": [
    "def num_common_nodes(*arg):\n",
    "    \"\"\"\n",
    "    Return the number of common nodes between a set of graphs.\n",
    "\n",
    "    :param arg: (an undetermined number of) networkx graphs.\n",
    "    :return: an integer, number of common nodes.\n",
    "    \"\"\"\n",
    "    common_nodes = set(arg[0].nodes())\n",
    "    for g in arg[1:]:\n",
    "        common_nodes.intersection_update(set(g.nodes()))\n",
    "    return len(common_nodes)\n",
    "\n",
    "def get_degree_distribution(g: nx.Graph) -> dict:\n",
    "    \"\"\"\n",
    "    Get the degree distribution of the graph.\n",
    "\n",
    "    :param g: networkx graph.\n",
    "    :return: dictionary with degree distribution (keys are degrees, values are number of occurrences).\n",
    "    \"\"\"\n",
    "    degrees = [g.degree(n) for n in g.nodes()]\n",
    "    degree_distribution = Counter(degrees)\n",
    "    return degree_distribution\n",
    "\n",
    "def get_k_most_central(g: nx.Graph, metric: str, num_nodes: int) -> list:\n",
    "    \"\"\"\n",
    "    Get the k most central nodes in the graph.\n",
    "\n",
    "    :param g: networkx graph.\n",
    "    :param metric: centrality metric. Can be (at least) 'degree', 'betweenness', 'closeness' or 'eigenvector'.\n",
    "    :param num_nodes: number of nodes to return.\n",
    "    :return: list with the top num_nodes nodes with the specified centrality.\n",
    "    \"\"\"\n",
    "    if metric == 'degree':\n",
    "        centrality = nx.degree_centrality(g)\n",
    "    elif metric == 'betweenness':\n",
    "        centrality = nx.betweenness_centrality(g)\n",
    "    elif metric == 'closeness':\n",
    "        centrality = nx.closeness_centrality(g)\n",
    "    elif metric == 'eigenvector':\n",
    "        centrality = nx.eigenvector_centrality(g)\n",
    "    else:\n",
    "        raise ValueError(f\"Unknown metric: {metric}\")\n",
    "\n",
    "    sorted_centrality = sorted(centrality.items(), key=operator.itemgetter(1), reverse=True)\n",
    "    return [node for node, centrality in sorted_centrality[:num_nodes]]\n",
    "\n",
    "def find_cliques(g: nx.Graph, min_size_clique: int) -> tuple:\n",
    "    \"\"\"\n",
    "    Find cliques in the graph g with size at least min_size_clique.\n",
    "\n",
    "    :param g: networkx graph.\n",
    "    :param min_size_clique: minimum size of the cliques to find.\n",
    "    :return: two-element tuple, list of cliques (each clique is a list of nodes) and\n",
    "        list of nodes in any of the cliques.\n",
    "    \"\"\"\n",
    "    cliques = list(nx.find_cliques(g))\n",
    "    cliques = [c for c in cliques if len(c) >= min_size_clique]\n",
    "    nodes_in_cliques = set(itertools.chain.from_iterable(cliques))\n",
    "    return cliques, list(nodes_in_cliques)\n",
    "\n",
    "def detect_communities(g: nx.Graph, method: str) -> tuple:\n",
    "    \"\"\"\n",
    "    Detect communities in the graph g using the specified method.\n",
    "\n",
    "    :param g: a networkx graph.\n",
    "    :param method: string with the name of the method to use. Can be (at least) 'givarn-newman' or 'louvain'.\n",
    "    :return: two-element tuple, list of communities (each community is a list of nodes) and modularity of the partition.\n",
    "    \"\"\"\n",
    "    if method == 'girvan_newman':\n",
    "        communities_generator = nx.algorithms.community.girvan_newman(g)\n",
    "        top_level_communities = next(communities_generator)\n",
    "        communities = [list(c) for c in top_level_communities]\n",
    "        modularity = nx.algorithms.community.modularity(g, communities)\n",
    "    elif method == 'louvain':\n",
    "        partition = community_louvain.best_partition(g)\n",
    "        communities = list(set(partition.values()))\n",
    "        communities = [[nodes for nodes, community in partition.items() if community == com] for com in communities]\n",
    "        modularity = community_louvain.modularity(partition, g)\n",
    "    else:\n",
    "        raise ValueError(f\"Unknown method: {method}\")\n",
    "    return communities, modularity"
   ]
  },
  {
   "cell_type": "code",
   "execution_count": null,
   "metadata": {},
   "outputs": [],
   "source": [
    "gB = nx.read_graphml('gB.graphml')\n",
    "gD = nx.read_graphml('gD.graphml')\n",
    "fB = nx.read_graphml('fB.graphml')\n",
    "hB = nx.read_graphml('hB.graphml')"
   ]
  },
  {
   "cell_type": "code",
   "execution_count": null,
   "metadata": {},
   "outputs": [],
   "source": [
    "#Question 1\n",
    "shared_nodes_gB_fB = num_common_nodes(gB, fB)\n",
    "shared_nodes_gB_hB = num_common_nodes(gB, hB)\n",
    "print(shared_nodes_gB_fB)\n",
    "print(shared_nodes_gB_hB)"
   ]
  },
  {
   "cell_type": "code",
   "execution_count": null,
   "metadata": {},
   "outputs": [],
   "source": [
    "#Question 2\n",
    "central_nodes_degree = get_k_most_central(gB_prime, 'degree', 25)\n",
    "central_nodes_betweenness = get_k_most_central(gB_prime, 'betweenness', 25)\n",
    "common_central_nodes = num_common_nodes(central_nodes_degree, central_nodes_betweenness)\n"
   ]
  },
  {
   "cell_type": "code",
   "execution_count": null,
   "metadata": {},
   "outputs": [],
   "source": [
    "#Question 3\n",
    "cliques_gB_prime, nodes_in_cliques_gB_prime = find_cliques(gB_prime, min_size_clique)\n",
    "cliques_gD_prime, nodes_in_cliques_gD_prime = find_cliques(gD_prime, min_size_clique)\n"
   ]
  },
  {
   "cell_type": "code",
   "execution_count": null,
   "metadata": {},
   "outputs": [],
   "source": [
    "#Question 5\n",
    "communities, modularity = detect_communities(gD, 'louvain') # or 'girvan_newman'\n"
   ]
  },
  {
   "cell_type": "code",
   "execution_count": null,
   "metadata": {},
   "outputs": [],
   "source": [
    "#Question 7\n",
    "nx.shortest_path(gB, 'Young Dro', 'Travis Porter')"
   ]
  }
 ],
 "metadata": {
  "kernelspec": {
   "display_name": "spotify",
   "language": "python",
   "name": "python3"
  },
  "language_info": {
   "codemirror_mode": {
    "name": "ipython",
    "version": 3
   },
   "file_extension": ".py",
   "mimetype": "text/x-python",
   "name": "python",
   "nbconvert_exporter": "python",
   "pygments_lexer": "ipython3",
   "version": "3.11.3"
  },
  "orig_nbformat": 4
 },
 "nbformat": 4,
 "nbformat_minor": 2
}

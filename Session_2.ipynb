{
  "nbformat": 4,
  "nbformat_minor": 0,
  "metadata": {
    "colab": {
      "provenance": [],
      "collapsed_sections": [
        "2CNIp1QlN_EG"
      ]
    },
    "kernelspec": {
      "name": "python3",
      "display_name": "Python 3"
    },
    "language_info": {
      "name": "python"
    }
  },
  "cells": [
    {
      "cell_type": "markdown",
      "source": [
        "###Make spotipy work"
      ],
      "metadata": {
        "id": "2CNIp1QlN_EG"
      }
    },
    {
      "cell_type": "code",
      "source": [
        "%%capture\n",
        "!pip install spotipy\n",
        "import networkx as nx\n",
        "import pandas as pd\n",
        "import spotipy\n",
        "from spotipy . oauth2 import SpotifyClientCredentials\n",
        "import matplotlib.pyplot as plt"
      ],
      "metadata": {
        "id": "hiUEHuSTFVb4"
      },
      "execution_count": 1,
      "outputs": []
    },
    {
      "cell_type": "code",
      "source": [
        "CLIENT_ID = \"fe233373eb024c3a97f1eeca78dba3c8\"\n",
        "CLIENT_SECRET = \"34f0386560eb4dcb88e317f81b11b961\"\n",
        "\n",
        "auth_manager = SpotifyClientCredentials (client_id = CLIENT_ID, client_secret = CLIENT_SECRET)\n",
        "sp = spotipy . Spotify ( auth_manager = auth_manager )"
      ],
      "metadata": {
        "id": "oX_qBnSQFo1C"
      },
      "execution_count": 2,
      "outputs": []
    },
    {
      "cell_type": "markdown",
      "source": [
        "###Main"
      ],
      "metadata": {
        "id": "dDizQm1fTHxp"
      }
    },
    {
      "cell_type": "code",
      "execution_count": 154,
      "metadata": {
        "id": "XSUVTEPCSpKW"
      },
      "outputs": [],
      "source": [
        "import networkx as nx\n",
        "import pandas as pd\n",
        "import copy\n",
        "import numpy as np\n",
        "import itertools\n",
        "from numpy import dot\n",
        "from numpy.linalg import norm\n",
        "\n",
        "# ------- IMPLEMENT HERE ANY AUXILIARY FUNCTIONS NEEDED ------- #\n",
        "\n",
        "\n",
        "# --------------- END OF AUXILIARY FUNCTIONS ------------------ #\n",
        "\n",
        "def retrieve_bidirectional_edges(g: nx.DiGraph, out_filename: str) -> nx.Graph:\n",
        "    \"\"\"\n",
        "    Convert a directed graph into an undirected graph by considering bidirectional edges only.\n",
        "\n",
        "    :param g: a networkx digraph.\n",
        "    :param out_filename: name of the file that will be saved.\n",
        "    :return: a networkx undirected graph.\n",
        "    \"\"\"\n",
        "    # ------- IMPLEMENT HERE THE BODY OF THE FUNCTION ------- #\n",
        "    out = nx.Graph()\n",
        "    out.add_nodes_from(g)\n",
        "\n",
        "    for edge in g.edges():  \n",
        "      if edge[::-1] in g.edges(): #check if reverse edge exist in graph\n",
        "        out.add_edge(edge[0],edge[1])\n",
        "    \n",
        "    out.remove_nodes_from(list(nx.isolates(out))) #Remove nodes without edges\n",
        "\n",
        "    nx.write_graphml(out, out_filename+\".graphml\")\n",
        "    return out\n",
        "    # ----------------- END OF FUNCTION --------------------- #\n",
        "\n",
        "\n",
        "def prune_low_degree_nodes(g: nx.Graph, min_degree: int, out_filename: str) -> nx.Graph:\n",
        "    \"\"\"\n",
        "    Prune a graph by removing nodes with degree < min_degree.\n",
        "\n",
        "    :param g: a networkx graph.\n",
        "    :param min_degree: lower bound value for the degree.\n",
        "    :param out_filename: name of the file that will be saved.\n",
        "    :return: a pruned networkx graph.\n",
        "    \"\"\"\n",
        "    # ------- IMPLEMENT HERE THE BODY OF THE FUNCTION ------- #\n",
        "    out = nx.Graph()\n",
        "    out.add_nodes_from(g)\n",
        "    out.add_edges_from(list(g.edges()))\n",
        "    \n",
        "    out.remove_nodes_from([node for node,degree in dict(out.degree()).items() if degree < min_degree])    \n",
        "    \n",
        "    out.remove_nodes_from(list(nx.isolates(out))) #Remove nodes without edges\n",
        "\n",
        "    nx.write_graphml(out, out_filename+\".graphml\")    \n",
        "    return out\n",
        "    # ----------------- END OF FUNCTION --------------------- #\n",
        "\n",
        "\n",
        "def prune_low_weight_edges(g: nx.Graph, min_weight=None, min_percentile=None, out_filename: str = None) -> nx.Graph:\n",
        "    \"\"\"\n",
        "    Prune a graph by removing edges with weight < threshold. Threshold can be specified as a value or as a percentile.\n",
        "\n",
        "    :param g: a weighted networkx graph.\n",
        "    :param min_weight: lower bound value for the weight.\n",
        "    :param min_percentile: lower bound percentile for the weight.\n",
        "    :param out_filename: name of the file that will be saved.\n",
        "    :return: a pruned networkx graph.\n",
        "    \"\"\"\n",
        "    # ------- IMPLEMENT HERE THE BODY OF THE FUNCTION ------- #\n",
        "    if (min_weight==None and min_percentile==None) or not (min_weight==None or min_percentile==None):\n",
        "      raise Exception('Use only one parameter: min_weight or min_percentile')\n",
        "    \n",
        "    out = copy.deepcopy(g)  \n",
        "\n",
        "    if min_weight == None:\n",
        "      min_weight = np.percentile(np.sort(np.array([e[2] for e in out.edges.data('weight')])), min_percentile) \n",
        "\n",
        "    out.remove_edges_from(list(filter(lambda e: e[2] < min_weight, (e for e in out.edges.data('weight')))))\n",
        "    \n",
        "    out.remove_nodes_from(list(nx.isolates(out))) #Remove nodes without edges\n",
        "\n",
        "    nx.write_graphml(out, out_filename+\".graphml\")    \n",
        "    return out\n",
        "    # ----------------- END OF FUNCTION --------------------- #\n",
        "\n",
        "\n",
        "def compute_mean_audio_features(tracks_df: pd.DataFrame) -> pd.DataFrame:\n",
        "    \"\"\"\n",
        "    Compute the mean audio features for tracks of the same artist.\n",
        "\n",
        "    :param tracks_df: tracks dataframe (with audio features per each track).\n",
        "    :return: artist dataframe (with mean audio features per each artist).\n",
        "    \"\"\"\n",
        "    # ------- IMPLEMENT HERE THE BODY OF THE FUNCTION ------- #\n",
        "    columns = ['Name', 'ID', 'Danceability', 'Energy', 'Loudness', 'Speechiness', 'Acousticness', 'Instrumentalness', 'Liveness', 'Valence', 'Tempo']\n",
        "    keep = {}\n",
        "    total = []\n",
        "\n",
        "    for index, row in tracks_df.iterrows():\n",
        "      key = row['Artist Name']+','+row['Artist ID']\n",
        "      if key not in keep.keys():\n",
        "          keep[key] = [[row['Danceability'], row['Energy'], row['Loudness'], row['Speechiness'], row['Acousticness'], row['Instrumentalness'], row['Liveness'], row['Valence'], row['Tempo']]]\n",
        "      else:\n",
        "          keep[key].append([row['Danceability'], row['Energy'], row['Loudness'], row['Speechiness'], row['Acousticness'], row['Instrumentalness'], row['Liveness'], row['Valence'], row['Tempo']])\n",
        "\n",
        "    for key in keep.keys():\n",
        "      name, id = key.split(',')\n",
        "      info = [name, id] + ((np.array(keep[key]).sum(axis=0))/len(keep[key])).tolist()\n",
        "      total.append(info)\n",
        "    \n",
        "    table = pd.DataFrame(total, columns=columns)\n",
        "    return table\n",
        "    # ----------------- END OF FUNCTION --------------------- #\n",
        "\n",
        "\n",
        "def create_similarity_graph(artist_audio_features_df: pd.DataFrame, similarity: str, out_filename: str = None) -> \\\n",
        "        nx.Graph:\n",
        "    \"\"\"\n",
        "    Create a similarity graph from a dataframe with mean audio features per artist.\n",
        "\n",
        "    :param artist_audio_features_df: dataframe with mean audio features per artist.\n",
        "    :param similarity: the name of the similarity metric to use (e.g. \"cosine\" or \"euclidean\").\n",
        "    :param out_filename: name of the file that will be saved.\n",
        "    :return: a networkx graph with the similarity between artists as edge weights.\n",
        "    \"\"\"\n",
        "    # ------- IMPLEMENT HERE THE BODY OF THE FUNCTION ------- #\n",
        "    complete = nx.Graph()\n",
        "\n",
        "    for index, row in artist_audio_features_df.iterrows():\n",
        "      complete.add_node(row['Name'], \n",
        "                    id = row['ID'], \n",
        "                    features = [row['Danceability'], row['Energy'], row['Loudness'], row['Speechiness'], row['Acousticness'], row['Instrumentalness'], row['Liveness'], row['Valence'], row['Tempo']])\n",
        "\n",
        "    complete.add_edges_from(itertools.combinations(complete, 2))\n",
        "\n",
        "    for ins,out,weight in complete.edges(data=True):\n",
        "      features_in = np.array(dict(complete.nodes())[ins]['features'])  \n",
        "      features_out = np.array(dict(complete.nodes())[out]['features']) \n",
        "\n",
        "      if similarity=='euclidean':\n",
        "        dist = np.linalg.norm(features_in-features_out)\n",
        "      elif similarity=='cosine':\n",
        "        dist = dot(features_in, features_out)/(norm(features_in)*norm(features_out))\n",
        "      \n",
        "      weight['weight'] = dist \n",
        "    \n",
        "    for node in list(complete.nodes()):\n",
        "      del dict(complete.nodes())[node]['features']\n",
        "\n",
        "    nx.write_graphml(complete, out_filename+\".graphml\")\n",
        "    return complete  \n",
        "    # ----------------- END OF FUNCTION --------------------- #\n",
        "\n",
        "\n",
        "if __name__ == \"__main__\":\n",
        "    # ------- IMPLEMENT HERE THE MAIN FOR THIS SESSION ------- #\n",
        "    pass\n",
        "    # ------------------- END OF MAIN ------------------------ #\n"
      ]
    },
    {
      "cell_type": "markdown",
      "source": [
        "###Work zone"
      ],
      "metadata": {
        "id": "5dTJPWemnuEf"
      }
    },
    {
      "cell_type": "code",
      "source": [
        "gB = nx.read_graphml('gB.graphml')\n",
        "gD = nx.read_graphml('gD.graphml')\n",
        "D =  pd.read_csv(\"D.csv\")"
      ],
      "metadata": {
        "id": "cVdJeFUZ9mMR"
      },
      "execution_count": 157,
      "outputs": []
    },
    {
      "cell_type": "code",
      "source": [
        "#Exercise 1\n",
        "gB_bi = retrieve_bidirectional_edges(gB, 'gB_bi')\n",
        "gD_bi = retrieve_bidirectional_edges(gD, 'gD_bi')"
      ],
      "metadata": {
        "id": "gM88pMFS9ucl"
      },
      "execution_count": 158,
      "outputs": []
    },
    {
      "cell_type": "code",
      "source": [
        "#Exercise 2\n",
        "mean_audio = compute_mean_audio_features(D) #We would need separated datasets? One for gB and one for gD?\n",
        "similarity_graph = create_similarity_graph(mean_audio, 'euclidean', 'similarity_graph')\n",
        "similarity_graph_gB = prune_low_weight_edges(similarity_graph, min_weight=28.5, out_filename='similarity_graph')\n",
        "similarity_graph_gD = prune_low_weight_edges(similarity_graph, min_weight=24, out_filename='similarity_graph')"
      ],
      "metadata": {
        "id": "0VP-9wmP-CcH"
      },
      "execution_count": 197,
      "outputs": []
    },
    {
      "cell_type": "code",
      "source": [
        "gB_bi.size() - similarity_graph_gB.size()"
      ],
      "metadata": {
        "colab": {
          "base_uri": "https://localhost:8080/"
        },
        "id": "d80vRo-8_ZNU",
        "outputId": "ae736e90-785c-4dd8-88c8-1f40e0af22bd"
      },
      "execution_count": 199,
      "outputs": [
        {
          "output_type": "execute_result",
          "data": {
            "text/plain": [
              "18"
            ]
          },
          "metadata": {},
          "execution_count": 199
        }
      ]
    },
    {
      "cell_type": "code",
      "source": [
        "gD_bi.size() - similarity_graph_gD.size()"
      ],
      "metadata": {
        "colab": {
          "base_uri": "https://localhost:8080/"
        },
        "id": "HXNclp_f_bgZ",
        "outputId": "2c6da7ba-06e0-4f6f-9a51-cfa22f0a551c"
      },
      "execution_count": 200,
      "outputs": [
        {
          "output_type": "execute_result",
          "data": {
            "text/plain": [
              "-22"
            ]
          },
          "metadata": {},
          "execution_count": 200
        }
      ]
    }
  ]
}
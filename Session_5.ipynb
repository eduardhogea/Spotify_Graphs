{
 "cells": [
  {
   "cell_type": "code",
   "execution_count": 2,
   "metadata": {},
   "outputs": [],
   "source": [
    "%%capture\n",
    "import networkx as nx\n",
    "import pandas as pd\n",
    "import spotipy\n",
    "from spotipy . oauth2 import SpotifyClientCredentials\n",
    "import matplotlib.pyplot as plt\n",
    "from tqdm import tqdm\n",
    "import time\n",
    "import random\n",
    "from spotipy.exceptions import SpotifyException\n",
    "import scipy"
   ]
  },
  {
   "cell_type": "code",
   "execution_count": 3,
   "metadata": {},
   "outputs": [],
   "source": [
    "CLIENT_ID = \"c7f567959a73413b9ddf798895e1fe39\"\n",
    "CLIENT_SECRET = \"e0c3fef273a7409793a1760d7bf9e350\"\n",
    "\n",
    "auth_manager = SpotifyClientCredentials (client_id = CLIENT_ID, client_secret = CLIENT_SECRET)\n",
    "sp = spotipy . Spotify ( auth_manager = auth_manager )"
   ]
  },
  {
   "attachments": {},
   "cell_type": "markdown",
   "metadata": {},
   "source": [
    "## Define the problem\n",
    "\n",
    "The goal is to discover the most influential artists within different music genres, for a range of genres defined by Spotify. The influential artists would be those who have high popularity and follower counts, and a large number of related artists.\n"
   ]
  },
  {
   "attachments": {},
   "cell_type": "markdown",
   "metadata": {},
   "source": [
    "## Data Acquisition"
   ]
  },
  {
   "cell_type": "code",
   "execution_count": 20,
   "metadata": {},
   "outputs": [
    {
     "name": "stdout",
     "output_type": "stream",
     "text": [
      "acoustic\n",
      "afrobeat\n",
      "alt-rock\n",
      "alternative\n",
      "ambient\n",
      "anime\n",
      "black-metal\n",
      "bluegrass\n",
      "blues\n",
      "bossanova\n",
      "brazil\n",
      "breakbeat\n",
      "british\n",
      "cantopop\n",
      "chicago-house\n",
      "children\n",
      "chill\n",
      "classical\n",
      "club\n",
      "comedy\n",
      "country\n",
      "dance\n",
      "dancehall\n",
      "death-metal\n",
      "deep-house\n",
      "detroit-techno\n",
      "disco\n",
      "disney\n",
      "drum-and-bass\n",
      "dub\n",
      "dubstep\n",
      "edm\n",
      "electro\n",
      "electronic\n",
      "emo\n",
      "folk\n",
      "forro\n",
      "french\n",
      "funk\n",
      "garage\n",
      "german\n",
      "gospel\n",
      "goth\n",
      "grindcore\n",
      "groove\n",
      "grunge\n",
      "guitar\n",
      "happy\n",
      "hard-rock\n",
      "hardcore\n",
      "hardstyle\n",
      "heavy-metal\n",
      "hip-hop\n",
      "holidays\n",
      "honky-tonk\n",
      "house\n",
      "idm\n",
      "indian\n",
      "indie\n",
      "indie-pop\n",
      "industrial\n",
      "iranian\n",
      "j-dance\n",
      "j-idol\n",
      "j-pop\n",
      "j-rock\n",
      "jazz\n",
      "k-pop\n",
      "kids\n",
      "latin\n",
      "latino\n",
      "malay\n",
      "mandopop\n",
      "metal\n",
      "metal-misc\n",
      "metalcore\n",
      "minimal-techno\n",
      "movies\n",
      "mpb\n",
      "new-age\n",
      "new-release\n",
      "opera\n",
      "pagode\n",
      "party\n",
      "philippines-opm\n",
      "piano\n",
      "pop\n",
      "pop-film\n",
      "post-dubstep\n",
      "power-pop\n",
      "progressive-house\n",
      "psych-rock\n",
      "punk\n",
      "punk-rock\n",
      "r-n-b\n",
      "rainy-day\n",
      "reggae\n",
      "reggaeton\n",
      "road-trip\n",
      "rock\n",
      "rock-n-roll\n",
      "rockabilly\n",
      "romance\n",
      "sad\n",
      "salsa\n",
      "samba\n",
      "sertanejo\n",
      "show-tunes\n",
      "singer-songwriter\n",
      "ska\n",
      "sleep\n",
      "songwriter\n",
      "soul\n",
      "soundtracks\n",
      "spanish\n",
      "study\n",
      "summer\n",
      "swedish\n",
      "synth-pop\n",
      "tango\n",
      "techno\n",
      "trance\n",
      "trip-hop\n",
      "turkish\n",
      "work-out\n",
      "world-music\n"
     ]
    }
   ],
   "source": [
    "genre_list = sp.recommendation_genre_seeds()\n",
    "counter = 0\n",
    "for i in genre_list.values():\n",
    "    for j in i:\n",
    "        counter += 1\n",
    "        print(j)\n",
    "        "
   ]
  },
  {
   "cell_type": "code",
   "execution_count": 30,
   "metadata": {},
   "outputs": [],
   "source": [
    "counter = 0\n",
    "\n",
    "G = nx.DiGraph()\n",
    "\n",
    "for i in genre_list.values():\n",
    "    for j in i:\n",
    "        counter += 1\n",
    "        if counter <= 5:\n",
    "            top_artists = sp.recommendations(seed_genres=[j])['tracks']\n",
    "            artists = [track['artists'][0] for track in top_artists]\n",
    "        else:\n",
    "            break\n",
    "        \n",
    "        for artist in artists:\n",
    "            artist_data = sp.artist(artist['id'])\n",
    "            followers = artist_data['followers']['total']\n",
    "            popularity = artist_data['popularity']\n",
    "            genres = artist_data['genres']  # Get the genres of the artist\n",
    "            related_artists = sp.artist_related_artists(artist['id'])['artists']\n",
    "\n",
    "            # Add a node for the artist into the graph and store its attributes\n",
    "            G.add_node(artist['id'], name=artist_data['name'], followers=followers, popularity=popularity, genres=genres)\n",
    "\n",
    "            # For each related artist, add an edge from the artist to the related artist\n",
    "            for related_artist in related_artists:\n",
    "                G.add_edge(artist['id'], related_artist['id'])\n"
   ]
  },
  {
   "cell_type": "code",
   "execution_count": 32,
   "metadata": {},
   "outputs": [],
   "source": [
    "# Convert the genres list to a string for each artist\n",
    "for node, data in G.nodes(data=True):\n",
    "    if 'genres' in data:\n",
    "        data['genres'] = ', '.join(data['genres'])\n",
    "        \n",
    "# Then you can write the graph to a GraphML file\n",
    "nx.write_graphml(G, \"artists_graph.graphml\")"
   ]
  },
  {
   "cell_type": "code",
   "execution_count": 44,
   "metadata": {},
   "outputs": [],
   "source": [
    "# Create an empty DataFrame\n",
    "import pandas as pd\n",
    "import networkx as nx\n",
    "\n",
    "df = pd.DataFrame(columns=['id', 'name', 'followers', 'popularity', 'genres'])\n",
    "\n",
    "# Add each artist to the DataFrame\n",
    "for node, data in G.nodes(data=True):\n",
    "    if not data:  # if data dictionary is empty, skip this iteration\n",
    "        continue\n",
    "    new_row = pd.DataFrame([[node, data['name'], data['followers'], data['popularity'], data['genres']]], columns=['id', 'name', 'followers', 'popularity', 'genres'])\n",
    "    df = pd.concat([df, new_row], ignore_index=True)\n",
    "\n",
    "# Write the data to a CSV file\n",
    "df.to_csv('artists_data.csv', index=False)\n",
    "\n"
   ]
  },
  {
   "attachments": {},
   "cell_type": "markdown",
   "metadata": {},
   "source": [
    "## Data Preprocessing"
   ]
  },
  {
   "cell_type": "code",
   "execution_count": null,
   "metadata": {},
   "outputs": [],
   "source": []
  },
  {
   "attachments": {},
   "cell_type": "markdown",
   "metadata": {},
   "source": [
    "## Data Analysis"
   ]
  },
  {
   "cell_type": "code",
   "execution_count": null,
   "metadata": {},
   "outputs": [],
   "source": []
  },
  {
   "attachments": {},
   "cell_type": "markdown",
   "metadata": {},
   "source": [
    "## Visualization"
   ]
  },
  {
   "cell_type": "code",
   "execution_count": null,
   "metadata": {},
   "outputs": [],
   "source": []
  },
  {
   "attachments": {},
   "cell_type": "markdown",
   "metadata": {},
   "source": [
    "## Discussion of results"
   ]
  }
 ],
 "metadata": {
  "kernelspec": {
   "display_name": "spotify",
   "language": "python",
   "name": "python3"
  },
  "language_info": {
   "codemirror_mode": {
    "name": "ipython",
    "version": 3
   },
   "file_extension": ".py",
   "mimetype": "text/x-python",
   "name": "python",
   "nbconvert_exporter": "python",
   "pygments_lexer": "ipython3",
   "version": "3.11.3"
  },
  "orig_nbformat": 4
 },
 "nbformat": 4,
 "nbformat_minor": 2
}

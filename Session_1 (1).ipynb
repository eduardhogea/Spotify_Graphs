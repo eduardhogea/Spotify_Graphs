{
  "cells": [
    {
      "cell_type": "markdown",
      "metadata": {
        "id": "2CNIp1QlN_EG"
      },
      "source": [
        "###Make spotipy work"
      ]
    },
    {
      "cell_type": "code",
      "execution_count": null,
      "metadata": {},
      "outputs": [],
      "source": [
        "!pip install spotipy\n",
        "!pip install tqdm"
      ]
    },
    {
      "cell_type": "code",
      "execution_count": 1,
      "metadata": {
        "id": "hiUEHuSTFVb4"
      },
      "outputs": [],
      "source": [
        "%%capture\n",
        "import networkx as nx\n",
        "import pandas as pd\n",
        "import spotipy\n",
        "from spotipy . oauth2 import SpotifyClientCredentials\n",
        "import matplotlib.pyplot as plt\n",
        "from tqdm import tqdm\n",
        "import time"
      ]
    },
    {
      "cell_type": "code",
      "execution_count": 2,
      "metadata": {
        "id": "oX_qBnSQFo1C"
      },
      "outputs": [],
      "source": [
        "CLIENT_ID = \"83251742b516446a95953a9b9236c75a\"\n",
        "CLIENT_SECRET = \"3537256ef68748ad8422e190a7740c58\"\n",
        "\n",
        "auth_manager = SpotifyClientCredentials (client_id = CLIENT_ID, client_secret = CLIENT_SECRET)\n",
        "sp = spotipy . Spotify ( auth_manager = auth_manager )"
      ]
    },
    {
      "cell_type": "markdown",
      "metadata": {
        "id": "HCpU9OqOOC9b"
      },
      "source": [
        "###Implement functions"
      ]
    },
    {
      "cell_type": "markdown",
      "metadata": {
        "id": "Qz4-0Y8ZONrD"
      },
      "source": [
        "####Final result"
      ]
    },
    {
      "cell_type": "code",
      "execution_count": 3,
      "metadata": {
        "id": "-OA5fEGjFQ94"
      },
      "outputs": [],
      "source": [
        "# ------- IMPLEMENT HERE ANY AUXILIARY FUNCTIONS NEEDED ------- #\n",
        "def add_node(graph, name, id):  \n",
        "  raw = sp.artist(id) \n",
        "\n",
        "  genre = ''\n",
        "  for g in raw['genres']:\n",
        "    genre = genre+g+','\n",
        "\n",
        "  graph.add_node(name, \n",
        "                 id = raw['id'], \n",
        "                 followers = raw['followers']['total'],\n",
        "                 popularity = raw['popularity'],\n",
        "                 genres = genre)\n",
        "\n",
        "\n",
        "def explore_node(graph, name='', id=''):  \n",
        "  if id=='':    \n",
        "    id = search_artist(name)\n",
        "  elif name=='':    \n",
        "    name = sp.artist(id)['name']\n",
        "  \n",
        "  related = sp.artist_related_artists(id)  \n",
        "  neighbours = [artist['name'] for artist in related['artists']]\n",
        "  add_node(graph, name, id)\n",
        "\n",
        "  for partner in neighbours: \n",
        "    add_node(graph, partner, search_artist(partner))\n",
        "    graph.add_edge(name, partner)  \n",
        "  \n",
        "  return neighbours\n",
        "\n",
        "# --------------- END OF AUXILIARY FUNCTIONS ------------------ #\n",
        "\n",
        "\n",
        "def search_artist(artist_name: str) -> str:\n",
        "    \"\"\"\n",
        "    Search for an artist in Spotify.\n",
        "\n",
        "    :param artist_name: name to search for.\n",
        "    :return: spotify artist id.\n",
        "    \"\"\"\n",
        "    # ------- IMPLEMENT HERE THE BODY OF THE FUNCTION ------- #\n",
        "    searched = sp.search(artist_name, type='artist', limit=1)\n",
        "    if searched['artists']['items'] != []:\n",
        "      return searched['artists']['items'][0]['id']  \n",
        "    # ----------------- END OF FUNCTION --------------------- #\n",
        "\n",
        "\n",
        "def crawler(seed: str, max_nodes_to_crawl: int, strategy: str = \"BFS\", out_filename: str = \"g.graphml\") -> nx.DiGraph:\n",
        "    \"\"\"\n",
        "    Crawl the Spotify artist graph, following related artists.\n",
        "\n",
        "    :param seed: starting artist id.\n",
        "    :param max_nodes_to_crawl: maximum number of nodes to crawl.\n",
        "    :param strategy: BFS or DFS.\n",
        "    :param out_filename: name of the graphml output file.\n",
        "    :return: networkx directed graph.\n",
        "    \"\"\"\n",
        "    # ------- IMPLEMENT HERE THE BODY OF THE FUNCTION ------- #\n",
        "    Graph = nx.DiGraph()\n",
        "    n_nodes = 1    \n",
        "    to_explore = explore_node(Graph, id = seed)     \n",
        "    visited = []    \n",
        "\n",
        "    while (n_nodes < max_nodes_to_crawl) and (len(to_explore) != 0):\n",
        "      if strategy=='BFS':        \n",
        "        current = to_explore.pop(0)         \n",
        "        while current in visited:\n",
        "          current = to_explore.pop(0)                     \n",
        "        to_explore = to_explore + explore_node(Graph, name = current)\n",
        "        n_nodes+=1      \n",
        "        visited.append(current) \n",
        "      \n",
        "      elif strategy=='DFS':\n",
        "        current = to_explore.pop(0)\n",
        "        while current in visited:\n",
        "          current = to_explore.pop(0)                   \n",
        "        to_explore = explore_node(Graph, name = current) + to_explore        \n",
        "        n_nodes+=1     \n",
        "        visited.append(current)       \n",
        "\n",
        "    nx.write_graphml(Graph, out_filename+\".graphml\")\n",
        "    nx.draw_spring(Graph)\n",
        "    return Graph \n",
        "    # ----------------- END OF FUNCTION --------------------- #\n",
        "\n",
        "def get_track_data(graphs: list, out_filename: str) -> pd.DataFrame:\n",
        "    \"\"\"\n",
        "    Get track data for each visited artist in the graph.\n",
        "\n",
        "    :param graphs: a list of graphs with artists as nodes.\n",
        "    :param out_filename: name of the csv output file.\n",
        "    :return: pandas dataframe with track data.\n",
        "    \"\"\"\n",
        "    artists = set()\n",
        "\n",
        "    for graph in graphs:\n",
        "        for artist in graph.nodes:\n",
        "            artists.add((artist, graph.nodes[artist]['id']))\n",
        "\n",
        "    columns = ['Name', 'ID', 'Popularity']\n",
        "    data = []\n",
        "\n",
        "    delay = 10  # Delay in seconds between API calls\n",
        "    progress_bar = tqdm(total=len(artists), desc=\"Processing Artists\", unit=\"artist\")\n",
        "\n",
        "    for element in artists:\n",
        "        singer = element[0]\n",
        "        singer_id = element[1]\n",
        "\n",
        "        tracks = sp.artist_top_tracks(singer_id)['tracks']\n",
        "\n",
        "        progress_bar.set_description(f\"Processing Artist: {singer}\")\n",
        "        progress_bar.refresh()\n",
        "\n",
        "        for track in tracks:\n",
        "            audio_features = sp.audio_features(track['id'])[0]\n",
        "            if audio_features is not None:\n",
        "                info = [\n",
        "                    track['name'],\n",
        "                    track['id'],\n",
        "                    track['popularity'],\n",
        "                ]\n",
        "                data.append(info)\n",
        "\n",
        "        # Save data to CSV file\n",
        "        table = pd.DataFrame(data, columns=columns).sort_values('Popularity', ascending=False)\n",
        "        table.to_csv(out_filename + '.csv', index=False)\n",
        "\n",
        "        # Add delay before making the next API call\n",
        "        time.sleep(delay)\n",
        "\n",
        "        progress_bar.update(1)\n",
        "\n",
        "    progress_bar.close()\n",
        "\n",
        "    table = pd.DataFrame(data, columns=columns).sort_values('Popularity', ascending=False)\n",
        "    table.to_csv(out_filename + '.csv', index=False)\n",
        "\n",
        "    return table\n",
        "    # ----------------- END OF FUNCTION --------------------- #\n",
        "\n",
        "\n",
        "if __name__ == \"__main__\":\n",
        "    artist_name = \"Drake\"  # Replace with the name of the artist you want to search for\n",
        "    seed_artist_id_Drake = search_artist(artist_name)\n",
        "    artist_name = \"French Montana\"  # Replace with the name of the artist you want to search for\n",
        "    seed_artist_id_FM = search_artist(artist_name)\n",
        "    "
      ]
    },
    {
      "cell_type": "markdown",
      "metadata": {
        "id": "xdqE_4bkOQkm"
      },
      "source": [
        "####Exercises"
      ]
    },
    {
      "cell_type": "markdown",
      "metadata": {
        "id": "UGXrKV4qlpLF"
      },
      "source": [
        "#####No need to run"
      ]
    },
    {
      "cell_type": "code",
      "execution_count": null,
      "metadata": {
        "colab": {
          "base_uri": "https://localhost:8080/",
          "height": 516
        },
        "id": "YYjxee7QrvLs",
        "outputId": "d9ded07a-8108-46d7-831a-b2c01965a182"
      },
      "outputs": [],
      "source": [
        "gB = crawler(seed_artist_id_Drake, 200, 'BFS', 'gB')"
      ]
    },
    {
      "cell_type": "code",
      "execution_count": null,
      "metadata": {
        "colab": {
          "base_uri": "https://localhost:8080/",
          "height": 516
        },
        "id": "-EH_6RV6r0hu",
        "outputId": "87e83400-9e02-4495-9a54-e9daa2c07687"
      },
      "outputs": [],
      "source": [
        "gD = crawler(seed_artist_id_Drake, 200, 'DFS', 'gD')"
      ]
    },
    {
      "cell_type": "markdown",
      "metadata": {
        "id": "rRj5gGRklsB8"
      },
      "source": [
        "#####Run this (and download the results)"
      ]
    },
    {
      "cell_type": "code",
      "execution_count": 4,
      "metadata": {
        "id": "Jh8iG_dFc_oC"
      },
      "outputs": [],
      "source": [
        "import networkx as nx\n",
        "\n",
        "gB = nx.read_graphml('gB.graphml')\n",
        "gD = nx.read_graphml('gD.graphml')"
      ]
    },
    {
      "cell_type": "code",
      "execution_count": 5,
      "metadata": {
        "colab": {
          "base_uri": "https://localhost:8080/",
          "height": 588
        },
        "id": "SWE4f1smsnQn",
        "outputId": "21d2ae22-afd7-44ba-c5d5-78fdfea881f5"
      },
      "outputs": [
        {
          "name": "stderr",
          "output_type": "stream",
          "text": [
            "Processing Artist: Joey Fatts:   0%|          | 0/1517 [00:00<?, ?artist/s]Max Retries reached\n"
          ]
        },
        {
          "ename": "SpotifyException",
          "evalue": "http status: 429, code:-1 - /v1/audio-features/?ids=1ccxiPcBci9D6U8l39fD0w:\n Max Retries, reason: too many 429 error responses",
          "output_type": "error",
          "traceback": [
            "\u001b[0;31m---------------------------------------------------------------------------\u001b[0m",
            "\u001b[0;31mResponseError\u001b[0m                             Traceback (most recent call last)",
            "\u001b[0;31mResponseError\u001b[0m: too many 429 error responses",
            "\nThe above exception was the direct cause of the following exception:\n",
            "\u001b[0;31mMaxRetryError\u001b[0m                             Traceback (most recent call last)",
            "File \u001b[0;32m~/miniforge3/envs/spotify/lib/python3.11/site-packages/requests/adapters.py:486\u001b[0m, in \u001b[0;36mHTTPAdapter.send\u001b[0;34m(self, request, stream, timeout, verify, cert, proxies)\u001b[0m\n\u001b[1;32m    485\u001b[0m \u001b[39mtry\u001b[39;00m:\n\u001b[0;32m--> 486\u001b[0m     resp \u001b[39m=\u001b[39m conn\u001b[39m.\u001b[39;49murlopen(\n\u001b[1;32m    487\u001b[0m         method\u001b[39m=\u001b[39;49mrequest\u001b[39m.\u001b[39;49mmethod,\n\u001b[1;32m    488\u001b[0m         url\u001b[39m=\u001b[39;49murl,\n\u001b[1;32m    489\u001b[0m         body\u001b[39m=\u001b[39;49mrequest\u001b[39m.\u001b[39;49mbody,\n\u001b[1;32m    490\u001b[0m         headers\u001b[39m=\u001b[39;49mrequest\u001b[39m.\u001b[39;49mheaders,\n\u001b[1;32m    491\u001b[0m         redirect\u001b[39m=\u001b[39;49m\u001b[39mFalse\u001b[39;49;00m,\n\u001b[1;32m    492\u001b[0m         assert_same_host\u001b[39m=\u001b[39;49m\u001b[39mFalse\u001b[39;49;00m,\n\u001b[1;32m    493\u001b[0m         preload_content\u001b[39m=\u001b[39;49m\u001b[39mFalse\u001b[39;49;00m,\n\u001b[1;32m    494\u001b[0m         decode_content\u001b[39m=\u001b[39;49m\u001b[39mFalse\u001b[39;49;00m,\n\u001b[1;32m    495\u001b[0m         retries\u001b[39m=\u001b[39;49m\u001b[39mself\u001b[39;49m\u001b[39m.\u001b[39;49mmax_retries,\n\u001b[1;32m    496\u001b[0m         timeout\u001b[39m=\u001b[39;49mtimeout,\n\u001b[1;32m    497\u001b[0m         chunked\u001b[39m=\u001b[39;49mchunked,\n\u001b[1;32m    498\u001b[0m     )\n\u001b[1;32m    500\u001b[0m \u001b[39mexcept\u001b[39;00m (ProtocolError, \u001b[39mOSError\u001b[39;00m) \u001b[39mas\u001b[39;00m err:\n",
            "File \u001b[0;32m~/miniforge3/envs/spotify/lib/python3.11/site-packages/urllib3/connectionpool.py:941\u001b[0m, in \u001b[0;36mHTTPConnectionPool.urlopen\u001b[0;34m(self, method, url, body, headers, retries, redirect, assert_same_host, timeout, pool_timeout, release_conn, chunked, body_pos, preload_content, decode_content, **response_kw)\u001b[0m\n\u001b[1;32m    940\u001b[0m     log\u001b[39m.\u001b[39mdebug(\u001b[39m\"\u001b[39m\u001b[39mRetry: \u001b[39m\u001b[39m%s\u001b[39;00m\u001b[39m\"\u001b[39m, url)\n\u001b[0;32m--> 941\u001b[0m     \u001b[39mreturn\u001b[39;00m \u001b[39mself\u001b[39;49m\u001b[39m.\u001b[39;49murlopen(\n\u001b[1;32m    942\u001b[0m         method,\n\u001b[1;32m    943\u001b[0m         url,\n\u001b[1;32m    944\u001b[0m         body,\n\u001b[1;32m    945\u001b[0m         headers,\n\u001b[1;32m    946\u001b[0m         retries\u001b[39m=\u001b[39;49mretries,\n\u001b[1;32m    947\u001b[0m         redirect\u001b[39m=\u001b[39;49mredirect,\n\u001b[1;32m    948\u001b[0m         assert_same_host\u001b[39m=\u001b[39;49massert_same_host,\n\u001b[1;32m    949\u001b[0m         timeout\u001b[39m=\u001b[39;49mtimeout,\n\u001b[1;32m    950\u001b[0m         pool_timeout\u001b[39m=\u001b[39;49mpool_timeout,\n\u001b[1;32m    951\u001b[0m         release_conn\u001b[39m=\u001b[39;49mrelease_conn,\n\u001b[1;32m    952\u001b[0m         chunked\u001b[39m=\u001b[39;49mchunked,\n\u001b[1;32m    953\u001b[0m         body_pos\u001b[39m=\u001b[39;49mbody_pos,\n\u001b[1;32m    954\u001b[0m         preload_content\u001b[39m=\u001b[39;49mpreload_content,\n\u001b[1;32m    955\u001b[0m         decode_content\u001b[39m=\u001b[39;49mdecode_content,\n\u001b[1;32m    956\u001b[0m         \u001b[39m*\u001b[39;49m\u001b[39m*\u001b[39;49mresponse_kw,\n\u001b[1;32m    957\u001b[0m     )\n\u001b[1;32m    959\u001b[0m \u001b[39mreturn\u001b[39;00m response\n",
            "File \u001b[0;32m~/miniforge3/envs/spotify/lib/python3.11/site-packages/urllib3/connectionpool.py:941\u001b[0m, in \u001b[0;36mHTTPConnectionPool.urlopen\u001b[0;34m(self, method, url, body, headers, retries, redirect, assert_same_host, timeout, pool_timeout, release_conn, chunked, body_pos, preload_content, decode_content, **response_kw)\u001b[0m\n\u001b[1;32m    940\u001b[0m     log\u001b[39m.\u001b[39mdebug(\u001b[39m\"\u001b[39m\u001b[39mRetry: \u001b[39m\u001b[39m%s\u001b[39;00m\u001b[39m\"\u001b[39m, url)\n\u001b[0;32m--> 941\u001b[0m     \u001b[39mreturn\u001b[39;00m \u001b[39mself\u001b[39;49m\u001b[39m.\u001b[39;49murlopen(\n\u001b[1;32m    942\u001b[0m         method,\n\u001b[1;32m    943\u001b[0m         url,\n\u001b[1;32m    944\u001b[0m         body,\n\u001b[1;32m    945\u001b[0m         headers,\n\u001b[1;32m    946\u001b[0m         retries\u001b[39m=\u001b[39;49mretries,\n\u001b[1;32m    947\u001b[0m         redirect\u001b[39m=\u001b[39;49mredirect,\n\u001b[1;32m    948\u001b[0m         assert_same_host\u001b[39m=\u001b[39;49massert_same_host,\n\u001b[1;32m    949\u001b[0m         timeout\u001b[39m=\u001b[39;49mtimeout,\n\u001b[1;32m    950\u001b[0m         pool_timeout\u001b[39m=\u001b[39;49mpool_timeout,\n\u001b[1;32m    951\u001b[0m         release_conn\u001b[39m=\u001b[39;49mrelease_conn,\n\u001b[1;32m    952\u001b[0m         chunked\u001b[39m=\u001b[39;49mchunked,\n\u001b[1;32m    953\u001b[0m         body_pos\u001b[39m=\u001b[39;49mbody_pos,\n\u001b[1;32m    954\u001b[0m         preload_content\u001b[39m=\u001b[39;49mpreload_content,\n\u001b[1;32m    955\u001b[0m         decode_content\u001b[39m=\u001b[39;49mdecode_content,\n\u001b[1;32m    956\u001b[0m         \u001b[39m*\u001b[39;49m\u001b[39m*\u001b[39;49mresponse_kw,\n\u001b[1;32m    957\u001b[0m     )\n\u001b[1;32m    959\u001b[0m \u001b[39mreturn\u001b[39;00m response\n",
            "File \u001b[0;32m~/miniforge3/envs/spotify/lib/python3.11/site-packages/urllib3/connectionpool.py:941\u001b[0m, in \u001b[0;36mHTTPConnectionPool.urlopen\u001b[0;34m(self, method, url, body, headers, retries, redirect, assert_same_host, timeout, pool_timeout, release_conn, chunked, body_pos, preload_content, decode_content, **response_kw)\u001b[0m\n\u001b[1;32m    940\u001b[0m     log\u001b[39m.\u001b[39mdebug(\u001b[39m\"\u001b[39m\u001b[39mRetry: \u001b[39m\u001b[39m%s\u001b[39;00m\u001b[39m\"\u001b[39m, url)\n\u001b[0;32m--> 941\u001b[0m     \u001b[39mreturn\u001b[39;00m \u001b[39mself\u001b[39;49m\u001b[39m.\u001b[39;49murlopen(\n\u001b[1;32m    942\u001b[0m         method,\n\u001b[1;32m    943\u001b[0m         url,\n\u001b[1;32m    944\u001b[0m         body,\n\u001b[1;32m    945\u001b[0m         headers,\n\u001b[1;32m    946\u001b[0m         retries\u001b[39m=\u001b[39;49mretries,\n\u001b[1;32m    947\u001b[0m         redirect\u001b[39m=\u001b[39;49mredirect,\n\u001b[1;32m    948\u001b[0m         assert_same_host\u001b[39m=\u001b[39;49massert_same_host,\n\u001b[1;32m    949\u001b[0m         timeout\u001b[39m=\u001b[39;49mtimeout,\n\u001b[1;32m    950\u001b[0m         pool_timeout\u001b[39m=\u001b[39;49mpool_timeout,\n\u001b[1;32m    951\u001b[0m         release_conn\u001b[39m=\u001b[39;49mrelease_conn,\n\u001b[1;32m    952\u001b[0m         chunked\u001b[39m=\u001b[39;49mchunked,\n\u001b[1;32m    953\u001b[0m         body_pos\u001b[39m=\u001b[39;49mbody_pos,\n\u001b[1;32m    954\u001b[0m         preload_content\u001b[39m=\u001b[39;49mpreload_content,\n\u001b[1;32m    955\u001b[0m         decode_content\u001b[39m=\u001b[39;49mdecode_content,\n\u001b[1;32m    956\u001b[0m         \u001b[39m*\u001b[39;49m\u001b[39m*\u001b[39;49mresponse_kw,\n\u001b[1;32m    957\u001b[0m     )\n\u001b[1;32m    959\u001b[0m \u001b[39mreturn\u001b[39;00m response\n",
            "File \u001b[0;32m~/miniforge3/envs/spotify/lib/python3.11/site-packages/urllib3/connectionpool.py:931\u001b[0m, in \u001b[0;36mHTTPConnectionPool.urlopen\u001b[0;34m(self, method, url, body, headers, retries, redirect, assert_same_host, timeout, pool_timeout, release_conn, chunked, body_pos, preload_content, decode_content, **response_kw)\u001b[0m\n\u001b[1;32m    930\u001b[0m \u001b[39mtry\u001b[39;00m:\n\u001b[0;32m--> 931\u001b[0m     retries \u001b[39m=\u001b[39m retries\u001b[39m.\u001b[39;49mincrement(method, url, response\u001b[39m=\u001b[39;49mresponse, _pool\u001b[39m=\u001b[39;49m\u001b[39mself\u001b[39;49m)\n\u001b[1;32m    932\u001b[0m \u001b[39mexcept\u001b[39;00m MaxRetryError:\n",
            "File \u001b[0;32m~/miniforge3/envs/spotify/lib/python3.11/site-packages/urllib3/util/retry.py:515\u001b[0m, in \u001b[0;36mRetry.increment\u001b[0;34m(self, method, url, response, error, _pool, _stacktrace)\u001b[0m\n\u001b[1;32m    514\u001b[0m     reason \u001b[39m=\u001b[39m error \u001b[39mor\u001b[39;00m ResponseError(cause)\n\u001b[0;32m--> 515\u001b[0m     \u001b[39mraise\u001b[39;00m MaxRetryError(_pool, url, reason) \u001b[39mfrom\u001b[39;00m \u001b[39mreason\u001b[39;00m  \u001b[39m# type: ignore[arg-type]\u001b[39;00m\n\u001b[1;32m    517\u001b[0m log\u001b[39m.\u001b[39mdebug(\u001b[39m\"\u001b[39m\u001b[39mIncremented Retry for (url=\u001b[39m\u001b[39m'\u001b[39m\u001b[39m%s\u001b[39;00m\u001b[39m'\u001b[39m\u001b[39m): \u001b[39m\u001b[39m%r\u001b[39;00m\u001b[39m\"\u001b[39m, url, new_retry)\n",
            "\u001b[0;31mMaxRetryError\u001b[0m: HTTPSConnectionPool(host='api.spotify.com', port=443): Max retries exceeded with url: /v1/audio-features/?ids=1ccxiPcBci9D6U8l39fD0w (Caused by ResponseError('too many 429 error responses'))",
            "\nDuring handling of the above exception, another exception occurred:\n",
            "\u001b[0;31mRetryError\u001b[0m                                Traceback (most recent call last)",
            "File \u001b[0;32m~/miniforge3/envs/spotify/lib/python3.11/site-packages/spotipy/client.py:266\u001b[0m, in \u001b[0;36mSpotify._internal_call\u001b[0;34m(self, method, url, payload, params)\u001b[0m\n\u001b[1;32m    265\u001b[0m \u001b[39mtry\u001b[39;00m:\n\u001b[0;32m--> 266\u001b[0m     response \u001b[39m=\u001b[39m \u001b[39mself\u001b[39;49m\u001b[39m.\u001b[39;49m_session\u001b[39m.\u001b[39;49mrequest(\n\u001b[1;32m    267\u001b[0m         method, url, headers\u001b[39m=\u001b[39;49mheaders, proxies\u001b[39m=\u001b[39;49m\u001b[39mself\u001b[39;49m\u001b[39m.\u001b[39;49mproxies,\n\u001b[1;32m    268\u001b[0m         timeout\u001b[39m=\u001b[39;49m\u001b[39mself\u001b[39;49m\u001b[39m.\u001b[39;49mrequests_timeout, \u001b[39m*\u001b[39;49m\u001b[39m*\u001b[39;49margs\n\u001b[1;32m    269\u001b[0m     )\n\u001b[1;32m    271\u001b[0m     response\u001b[39m.\u001b[39mraise_for_status()\n",
            "File \u001b[0;32m~/miniforge3/envs/spotify/lib/python3.11/site-packages/requests/sessions.py:589\u001b[0m, in \u001b[0;36mSession.request\u001b[0;34m(self, method, url, params, data, headers, cookies, files, auth, timeout, allow_redirects, proxies, hooks, stream, verify, cert, json)\u001b[0m\n\u001b[1;32m    588\u001b[0m send_kwargs\u001b[39m.\u001b[39mupdate(settings)\n\u001b[0;32m--> 589\u001b[0m resp \u001b[39m=\u001b[39m \u001b[39mself\u001b[39;49m\u001b[39m.\u001b[39;49msend(prep, \u001b[39m*\u001b[39;49m\u001b[39m*\u001b[39;49msend_kwargs)\n\u001b[1;32m    591\u001b[0m \u001b[39mreturn\u001b[39;00m resp\n",
            "File \u001b[0;32m~/miniforge3/envs/spotify/lib/python3.11/site-packages/requests/sessions.py:703\u001b[0m, in \u001b[0;36mSession.send\u001b[0;34m(self, request, **kwargs)\u001b[0m\n\u001b[1;32m    702\u001b[0m \u001b[39m# Send the request\u001b[39;00m\n\u001b[0;32m--> 703\u001b[0m r \u001b[39m=\u001b[39m adapter\u001b[39m.\u001b[39;49msend(request, \u001b[39m*\u001b[39;49m\u001b[39m*\u001b[39;49mkwargs)\n\u001b[1;32m    705\u001b[0m \u001b[39m# Total elapsed time of the request (approximately)\u001b[39;00m\n",
            "File \u001b[0;32m~/miniforge3/envs/spotify/lib/python3.11/site-packages/requests/adapters.py:510\u001b[0m, in \u001b[0;36mHTTPAdapter.send\u001b[0;34m(self, request, stream, timeout, verify, cert, proxies)\u001b[0m\n\u001b[1;32m    509\u001b[0m \u001b[39mif\u001b[39;00m \u001b[39misinstance\u001b[39m(e\u001b[39m.\u001b[39mreason, ResponseError):\n\u001b[0;32m--> 510\u001b[0m     \u001b[39mraise\u001b[39;00m RetryError(e, request\u001b[39m=\u001b[39mrequest)\n\u001b[1;32m    512\u001b[0m \u001b[39mif\u001b[39;00m \u001b[39misinstance\u001b[39m(e\u001b[39m.\u001b[39mreason, _ProxyError):\n",
            "\u001b[0;31mRetryError\u001b[0m: HTTPSConnectionPool(host='api.spotify.com', port=443): Max retries exceeded with url: /v1/audio-features/?ids=1ccxiPcBci9D6U8l39fD0w (Caused by ResponseError('too many 429 error responses'))",
            "\nDuring handling of the above exception, another exception occurred:\n",
            "\u001b[0;31mSpotifyException\u001b[0m                          Traceback (most recent call last)",
            "Cell \u001b[0;32mIn[5], line 1\u001b[0m\n\u001b[0;32m----> 1\u001b[0m D \u001b[39m=\u001b[39m get_track_data([gB, gD], \u001b[39m'\u001b[39;49m\u001b[39mD\u001b[39;49m\u001b[39m'\u001b[39;49m)\n",
            "Cell \u001b[0;32mIn[3], line 117\u001b[0m, in \u001b[0;36mget_track_data\u001b[0;34m(graphs, out_filename)\u001b[0m\n\u001b[1;32m    114\u001b[0m progress_bar\u001b[39m.\u001b[39mrefresh()\n\u001b[1;32m    116\u001b[0m \u001b[39mfor\u001b[39;00m track \u001b[39min\u001b[39;00m tracks:\n\u001b[0;32m--> 117\u001b[0m     audio_features \u001b[39m=\u001b[39m sp\u001b[39m.\u001b[39;49maudio_features(track[\u001b[39m'\u001b[39;49m\u001b[39mid\u001b[39;49m\u001b[39m'\u001b[39;49m])[\u001b[39m0\u001b[39m]\n\u001b[1;32m    118\u001b[0m     \u001b[39mif\u001b[39;00m audio_features \u001b[39mis\u001b[39;00m \u001b[39mnot\u001b[39;00m \u001b[39mNone\u001b[39;00m:\n\u001b[1;32m    119\u001b[0m         info \u001b[39m=\u001b[39m [\n\u001b[1;32m    120\u001b[0m             track[\u001b[39m'\u001b[39m\u001b[39mname\u001b[39m\u001b[39m'\u001b[39m],\n\u001b[1;32m    121\u001b[0m             track[\u001b[39m'\u001b[39m\u001b[39mid\u001b[39m\u001b[39m'\u001b[39m],\n\u001b[0;32m   (...)\u001b[0m\n\u001b[1;32m    125\u001b[0m             singer_id,\n\u001b[1;32m    126\u001b[0m         ]\n",
            "File \u001b[0;32m~/miniforge3/envs/spotify/lib/python3.11/site-packages/spotipy/client.py:1734\u001b[0m, in \u001b[0;36mSpotify.audio_features\u001b[0;34m(self, tracks)\u001b[0m\n\u001b[1;32m   1732\u001b[0m \u001b[39mif\u001b[39;00m \u001b[39misinstance\u001b[39m(tracks, \u001b[39mstr\u001b[39m):\n\u001b[1;32m   1733\u001b[0m     trackid \u001b[39m=\u001b[39m \u001b[39mself\u001b[39m\u001b[39m.\u001b[39m_get_id(\u001b[39m\"\u001b[39m\u001b[39mtrack\u001b[39m\u001b[39m\"\u001b[39m, tracks)\n\u001b[0;32m-> 1734\u001b[0m     results \u001b[39m=\u001b[39m \u001b[39mself\u001b[39;49m\u001b[39m.\u001b[39;49m_get(\u001b[39m\"\u001b[39;49m\u001b[39maudio-features/?ids=\u001b[39;49m\u001b[39m\"\u001b[39;49m \u001b[39m+\u001b[39;49m trackid)\n\u001b[1;32m   1735\u001b[0m \u001b[39melse\u001b[39;00m:\n\u001b[1;32m   1736\u001b[0m     tlist \u001b[39m=\u001b[39m [\u001b[39mself\u001b[39m\u001b[39m.\u001b[39m_get_id(\u001b[39m\"\u001b[39m\u001b[39mtrack\u001b[39m\u001b[39m\"\u001b[39m, t) \u001b[39mfor\u001b[39;00m t \u001b[39min\u001b[39;00m tracks]\n",
            "File \u001b[0;32m~/miniforge3/envs/spotify/lib/python3.11/site-packages/spotipy/client.py:323\u001b[0m, in \u001b[0;36mSpotify._get\u001b[0;34m(self, url, args, payload, **kwargs)\u001b[0m\n\u001b[1;32m    320\u001b[0m \u001b[39mif\u001b[39;00m args:\n\u001b[1;32m    321\u001b[0m     kwargs\u001b[39m.\u001b[39mupdate(args)\n\u001b[0;32m--> 323\u001b[0m \u001b[39mreturn\u001b[39;00m \u001b[39mself\u001b[39;49m\u001b[39m.\u001b[39;49m_internal_call(\u001b[39m\"\u001b[39;49m\u001b[39mGET\u001b[39;49m\u001b[39m\"\u001b[39;49m, url, payload, kwargs)\n",
            "File \u001b[0;32m~/miniforge3/envs/spotify/lib/python3.11/site-packages/spotipy/client.py:307\u001b[0m, in \u001b[0;36mSpotify._internal_call\u001b[0;34m(self, method, url, payload, params)\u001b[0m\n\u001b[1;32m    305\u001b[0m     \u001b[39mexcept\u001b[39;00m (\u001b[39mIndexError\u001b[39;00m, \u001b[39mAttributeError\u001b[39;00m):\n\u001b[1;32m    306\u001b[0m         reason \u001b[39m=\u001b[39m \u001b[39mNone\u001b[39;00m\n\u001b[0;32m--> 307\u001b[0m     \u001b[39mraise\u001b[39;00m SpotifyException(\n\u001b[1;32m    308\u001b[0m         \u001b[39m429\u001b[39m,\n\u001b[1;32m    309\u001b[0m         \u001b[39m-\u001b[39m\u001b[39m1\u001b[39m,\n\u001b[1;32m    310\u001b[0m         \u001b[39m\"\u001b[39m\u001b[39m%s\u001b[39;00m\u001b[39m:\u001b[39m\u001b[39m\\n\u001b[39;00m\u001b[39m \u001b[39m\u001b[39m%s\u001b[39;00m\u001b[39m\"\u001b[39m \u001b[39m%\u001b[39m (request\u001b[39m.\u001b[39mpath_url, \u001b[39m\"\u001b[39m\u001b[39mMax Retries\u001b[39m\u001b[39m\"\u001b[39m),\n\u001b[1;32m    311\u001b[0m         reason\u001b[39m=\u001b[39mreason\n\u001b[1;32m    312\u001b[0m     )\n\u001b[1;32m    313\u001b[0m \u001b[39mexcept\u001b[39;00m \u001b[39mValueError\u001b[39;00m:\n\u001b[1;32m    314\u001b[0m     results \u001b[39m=\u001b[39m \u001b[39mNone\u001b[39;00m\n",
            "\u001b[0;31mSpotifyException\u001b[0m: http status: 429, code:-1 - /v1/audio-features/?ids=1ccxiPcBci9D6U8l39fD0w:\n Max Retries, reason: too many 429 error responses"
          ]
        }
      ],
      "source": [
        "D = get_track_data([gB, gD], 'D')"
      ]
    },
    {
      "cell_type": "code",
      "execution_count": null,
      "metadata": {
        "id": "14dI6bGVh7Px"
      },
      "outputs": [],
      "source": [
        "hB = crawler(seed_artist_id_FM, 200, 'BFS', 'hB')"
      ]
    },
    {
      "cell_type": "code",
      "execution_count": null,
      "metadata": {},
      "outputs": [],
      "source": []
    },
    {
      "cell_type": "markdown",
      "metadata": {
        "id": "SUZRVbQVOIgt"
      },
      "source": [
        "###Others"
      ]
    },
    {
      "cell_type": "code",
      "execution_count": null,
      "metadata": {
        "id": "XRIc47IgU0KS"
      },
      "outputs": [],
      "source": [
        "def get_track_data(graphs: list, out_filename: str) -> pd.DataFrame:\n",
        "    \"\"\"\n",
        "    Get track data for each visited artist in the graph.\n",
        "\n",
        "    :param graphs: a list of graphs with artists as nodes.\n",
        "    :param out_filename: name of the csv output file.\n",
        "    :return: pandas dataframe with track data.\n",
        "    \"\"\"\n",
        "    # ------- IMPLEMENT HERE THE BODY OF THE FUNCTION ------- #\n",
        "    artists = set()\n",
        "\n",
        "    for graph in graphs:\n",
        "      for artist in list(graph.nodes):\n",
        "        artists.add(artist)\n",
        "    \n",
        "    columns = ['Name', 'ID', 'Popularity', 'Duration','Artist Name', 'Artist ID', 'Danceability', 'Energy', 'Loudness', 'Speechiness', 'Acousticness', 'Instrumentalness', 'Liveness', 'Valence', 'Tempo', 'Album Name', 'Album ID', 'Album Release Date']\n",
        "    data = []\n",
        "\n",
        "    for element in list(artists):\n",
        "      singer = element\n",
        "      singer_id = search_artist(singer)\n",
        "\n",
        "      tracks = sp.artist_top_tracks(singer_id, 'ES')['tracks']\n",
        "\n",
        "      for track in tracks:  \n",
        "        audio_features = sp.audio_features(track['id'])[0]\n",
        "\n",
        "        info = [\n",
        "          track['name'],\n",
        "          track['id'],\n",
        "          track['popularity'],\n",
        "          track['duration_ms'],\n",
        "          singer,\n",
        "          singer_id,\n",
        "          audio_features['danceability'],\n",
        "          audio_features['energy'],\n",
        "          audio_features['loudness'],\n",
        "          audio_features['speechiness'],\n",
        "          audio_features['acousticness'],\n",
        "          audio_features['instrumentalness'],\n",
        "          audio_features['liveness'],\n",
        "          audio_features['valence'],\n",
        "          audio_features['tempo'],\n",
        "          track['album']['name'],\n",
        "          track['album']['id'],\n",
        "          track['album']['release_date']\n",
        "        ]\n",
        "\n",
        "        data.append(info)\n",
        "\n",
        "    table = pd.DataFrame(data, columns=columns).sort_values('Popularity', ascending=False)\n",
        "    table.to_csv(out_filename, index=False)\n",
        "\n",
        "    return table\n",
        "    # ----------------- END OF FUNCTION --------------------- #"
      ]
    }
  ],
  "metadata": {
    "colab": {
      "collapsed_sections": [
        "2CNIp1QlN_EG",
        "UGXrKV4qlpLF"
      ],
      "provenance": []
    },
    "kernelspec": {
      "display_name": "Python 3",
      "name": "python3"
    },
    "language_info": {
      "codemirror_mode": {
        "name": "ipython",
        "version": 3
      },
      "file_extension": ".py",
      "mimetype": "text/x-python",
      "name": "python",
      "nbconvert_exporter": "python",
      "pygments_lexer": "ipython3",
      "version": "3.11.3"
    }
  },
  "nbformat": 4,
  "nbformat_minor": 0
}
